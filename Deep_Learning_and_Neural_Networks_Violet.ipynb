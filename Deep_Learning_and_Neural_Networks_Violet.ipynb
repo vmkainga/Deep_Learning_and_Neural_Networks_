{
  "cells": [
    {
      "cell_type": "markdown",
      "metadata": {
        "id": "z94lCkQVgDyA"
      },
      "source": [
        "# AfterWork Data Science: Basics of Deep Learning and Neural Networks "
      ]
    },
    {
      "cell_type": "markdown",
      "metadata": {
        "id": "wfBVJzyBUyZd"
      },
      "source": [
        "## <font color='#2F4F4F'>1. Defining the Question</font>"
      ]
    },
    {
      "cell_type": "markdown",
      "metadata": {
        "id": "O5GrwdSxUyZf"
      },
      "source": [
        "### a) Specifying the Data Analysis Question\n",
        "\n",
        "Identify the factors that could predict whether an employee will get promoted or not."
      ]
    },
    {
      "cell_type": "markdown",
      "metadata": {
        "id": "5YbJBdTGUyZg"
      },
      "source": [
        "### b) Defining the Metric for Success\n",
        "\n",
        "This project will be considered a success when:\n",
        "* we are able to confidently determine which employees are likely to get promoted, and\n",
        "* we get at least one model with an accuracy score of around 80%."
      ]
    },
    {
      "cell_type": "markdown",
      "metadata": {
        "id": "UQyhSx4EUyZh"
      },
      "source": [
        "### c) Understanding the Context \n",
        "You work for Alphabet Inc. which is a large Multinational Corporation. The company has 9 broad verticals across the organisation. One of the problems the company is facing is around identifying the right people for promotion (only for the manager position and below) and prepare them in time\n",
        "\n",
        "Currently the HR process, they are following is:\n",
        "- They first identify a set of employees based on recommendations/ past performance.\n",
        "- Selected employees go through the separate training and evaluation program for each vertical.\n",
        "- These programs are based on the required skill of each vertical. At the end of the program, based on various factors such as training performance, KPI completion (only employees with KPIs completed greater than 60% are considered) etc., the employee gets a promotion.\n",
        "\n",
        "For the above-mentioned process, the final promotions are only announced after the evaluation and this leads to delay in transition to their new roles. Hence, the company needs your help in identifying the eligible candidates at a particular checkpoint so that they can expedite the entire promotion cycle."
      ]
    },
    {
      "cell_type": "markdown",
      "metadata": {
        "id": "VG9zJNdjUyZh"
      },
      "source": [
        "### d) Recording the Experimental Design\n",
        "\n",
        "1. Load dataset and libraries.\n",
        "2. Clean dataset.\n",
        "3. Carry out univariate and bivariate analysis.\n",
        "4. Determine which employees are likely to be promoted based on the results of the analysis.\n",
        "5. Carry out data modeling.\n",
        "6. Summarize findings.\n",
        "7. Provide recommendations.\n",
        "8. Challenge the solution."
      ]
    },
    {
      "cell_type": "markdown",
      "metadata": {
        "id": "Yt8IcGWaUyZi"
      },
      "source": [
        "### e) Data Relevance\n",
        "\n",
        "The data provided is sufficient and appropriate for answering the research question."
      ]
    },
    {
      "cell_type": "markdown",
      "metadata": {
        "id": "yEZs-wccUyZj"
      },
      "source": [
        "## <font color='#2F4F4F'>2. Data Cleaning & Preparation</font>"
      ]
    },
    {
      "cell_type": "code",
      "execution_count": null,
      "metadata": {
        "id": "EuzipbdrUyZk"
      },
      "outputs": [],
      "source": [
        "import pandas as pd\n",
        "import matplotlib.pyplot as plt\n",
        "import numpy as np\n",
        "import seaborn as sns\n",
        "\n",
        "pd.set_option('display.max.columns', None)\n",
        "pd.set_option('display.max_colwidth', None)\n",
        "%matplotlib inline"
      ]
    },
    {
      "cell_type": "code",
      "execution_count": null,
      "metadata": {
        "colab": {
          "base_uri": "https://localhost:8080/",
          "height": 339
        },
        "id": "ZEYxhOzhUyZq",
        "outputId": "408249a3-1ea6-4b18-cbea-6dd322fa0652"
      },
      "outputs": [
        {
          "data": {
            "text/html": [
              "\n",
              "  <div id=\"df-6a055925-56ed-410a-8229-5ce213d49a2e\">\n",
              "    <div class=\"colab-df-container\">\n",
              "      <div>\n",
              "<style scoped>\n",
              "    .dataframe tbody tr th:only-of-type {\n",
              "        vertical-align: middle;\n",
              "    }\n",
              "\n",
              "    .dataframe tbody tr th {\n",
              "        vertical-align: top;\n",
              "    }\n",
              "\n",
              "    .dataframe thead th {\n",
              "        text-align: right;\n",
              "    }\n",
              "</style>\n",
              "<table border=\"1\" class=\"dataframe\">\n",
              "  <thead>\n",
              "    <tr style=\"text-align: right;\">\n",
              "      <th></th>\n",
              "      <th>employee_id</th>\n",
              "      <th>department</th>\n",
              "      <th>region</th>\n",
              "      <th>education</th>\n",
              "      <th>gender</th>\n",
              "      <th>recruitment_channel</th>\n",
              "      <th>no_of_trainings</th>\n",
              "      <th>age</th>\n",
              "      <th>previous_year_rating</th>\n",
              "      <th>length_of_service</th>\n",
              "      <th>KPIs_met &gt;80%</th>\n",
              "      <th>awards_won?</th>\n",
              "      <th>avg_training_score</th>\n",
              "      <th>is_promoted</th>\n",
              "    </tr>\n",
              "  </thead>\n",
              "  <tbody>\n",
              "    <tr>\n",
              "      <th>0</th>\n",
              "      <td>65438</td>\n",
              "      <td>Sales &amp; Marketing</td>\n",
              "      <td>region_7</td>\n",
              "      <td>Master's &amp; above</td>\n",
              "      <td>f</td>\n",
              "      <td>sourcing</td>\n",
              "      <td>1</td>\n",
              "      <td>35</td>\n",
              "      <td>5.0</td>\n",
              "      <td>8</td>\n",
              "      <td>1</td>\n",
              "      <td>0</td>\n",
              "      <td>49</td>\n",
              "      <td>0</td>\n",
              "    </tr>\n",
              "    <tr>\n",
              "      <th>1</th>\n",
              "      <td>65141</td>\n",
              "      <td>Operations</td>\n",
              "      <td>region_22</td>\n",
              "      <td>Bachelor's</td>\n",
              "      <td>m</td>\n",
              "      <td>other</td>\n",
              "      <td>1</td>\n",
              "      <td>30</td>\n",
              "      <td>5.0</td>\n",
              "      <td>4</td>\n",
              "      <td>0</td>\n",
              "      <td>0</td>\n",
              "      <td>60</td>\n",
              "      <td>0</td>\n",
              "    </tr>\n",
              "    <tr>\n",
              "      <th>2</th>\n",
              "      <td>7513</td>\n",
              "      <td>Sales &amp; Marketing</td>\n",
              "      <td>region_19</td>\n",
              "      <td>Bachelor's</td>\n",
              "      <td>m</td>\n",
              "      <td>sourcing</td>\n",
              "      <td>1</td>\n",
              "      <td>34</td>\n",
              "      <td>3.0</td>\n",
              "      <td>7</td>\n",
              "      <td>0</td>\n",
              "      <td>0</td>\n",
              "      <td>50</td>\n",
              "      <td>0</td>\n",
              "    </tr>\n",
              "    <tr>\n",
              "      <th>3</th>\n",
              "      <td>2542</td>\n",
              "      <td>Sales &amp; Marketing</td>\n",
              "      <td>region_23</td>\n",
              "      <td>Bachelor's</td>\n",
              "      <td>m</td>\n",
              "      <td>other</td>\n",
              "      <td>2</td>\n",
              "      <td>39</td>\n",
              "      <td>1.0</td>\n",
              "      <td>10</td>\n",
              "      <td>0</td>\n",
              "      <td>0</td>\n",
              "      <td>50</td>\n",
              "      <td>0</td>\n",
              "    </tr>\n",
              "    <tr>\n",
              "      <th>4</th>\n",
              "      <td>48945</td>\n",
              "      <td>Technology</td>\n",
              "      <td>region_26</td>\n",
              "      <td>Bachelor's</td>\n",
              "      <td>m</td>\n",
              "      <td>other</td>\n",
              "      <td>1</td>\n",
              "      <td>45</td>\n",
              "      <td>3.0</td>\n",
              "      <td>2</td>\n",
              "      <td>0</td>\n",
              "      <td>0</td>\n",
              "      <td>73</td>\n",
              "      <td>0</td>\n",
              "    </tr>\n",
              "  </tbody>\n",
              "</table>\n",
              "</div>\n",
              "      <button class=\"colab-df-convert\" onclick=\"convertToInteractive('df-6a055925-56ed-410a-8229-5ce213d49a2e')\"\n",
              "              title=\"Convert this dataframe to an interactive table.\"\n",
              "              style=\"display:none;\">\n",
              "        \n",
              "  <svg xmlns=\"http://www.w3.org/2000/svg\" height=\"24px\"viewBox=\"0 0 24 24\"\n",
              "       width=\"24px\">\n",
              "    <path d=\"M0 0h24v24H0V0z\" fill=\"none\"/>\n",
              "    <path d=\"M18.56 5.44l.94 2.06.94-2.06 2.06-.94-2.06-.94-.94-2.06-.94 2.06-2.06.94zm-11 1L8.5 8.5l.94-2.06 2.06-.94-2.06-.94L8.5 2.5l-.94 2.06-2.06.94zm10 10l.94 2.06.94-2.06 2.06-.94-2.06-.94-.94-2.06-.94 2.06-2.06.94z\"/><path d=\"M17.41 7.96l-1.37-1.37c-.4-.4-.92-.59-1.43-.59-.52 0-1.04.2-1.43.59L10.3 9.45l-7.72 7.72c-.78.78-.78 2.05 0 2.83L4 21.41c.39.39.9.59 1.41.59.51 0 1.02-.2 1.41-.59l7.78-7.78 2.81-2.81c.8-.78.8-2.07 0-2.86zM5.41 20L4 18.59l7.72-7.72 1.47 1.35L5.41 20z\"/>\n",
              "  </svg>\n",
              "      </button>\n",
              "      \n",
              "  <style>\n",
              "    .colab-df-container {\n",
              "      display:flex;\n",
              "      flex-wrap:wrap;\n",
              "      gap: 12px;\n",
              "    }\n",
              "\n",
              "    .colab-df-convert {\n",
              "      background-color: #E8F0FE;\n",
              "      border: none;\n",
              "      border-radius: 50%;\n",
              "      cursor: pointer;\n",
              "      display: none;\n",
              "      fill: #1967D2;\n",
              "      height: 32px;\n",
              "      padding: 0 0 0 0;\n",
              "      width: 32px;\n",
              "    }\n",
              "\n",
              "    .colab-df-convert:hover {\n",
              "      background-color: #E2EBFA;\n",
              "      box-shadow: 0px 1px 2px rgba(60, 64, 67, 0.3), 0px 1px 3px 1px rgba(60, 64, 67, 0.15);\n",
              "      fill: #174EA6;\n",
              "    }\n",
              "\n",
              "    [theme=dark] .colab-df-convert {\n",
              "      background-color: #3B4455;\n",
              "      fill: #D2E3FC;\n",
              "    }\n",
              "\n",
              "    [theme=dark] .colab-df-convert:hover {\n",
              "      background-color: #434B5C;\n",
              "      box-shadow: 0px 1px 3px 1px rgba(0, 0, 0, 0.15);\n",
              "      filter: drop-shadow(0px 1px 2px rgba(0, 0, 0, 0.3));\n",
              "      fill: #FFFFFF;\n",
              "    }\n",
              "  </style>\n",
              "\n",
              "      <script>\n",
              "        const buttonEl =\n",
              "          document.querySelector('#df-6a055925-56ed-410a-8229-5ce213d49a2e button.colab-df-convert');\n",
              "        buttonEl.style.display =\n",
              "          google.colab.kernel.accessAllowed ? 'block' : 'none';\n",
              "\n",
              "        async function convertToInteractive(key) {\n",
              "          const element = document.querySelector('#df-6a055925-56ed-410a-8229-5ce213d49a2e');\n",
              "          const dataTable =\n",
              "            await google.colab.kernel.invokeFunction('convertToInteractive',\n",
              "                                                     [key], {});\n",
              "          if (!dataTable) return;\n",
              "\n",
              "          const docLinkHtml = 'Like what you see? Visit the ' +\n",
              "            '<a target=\"_blank\" href=https://colab.research.google.com/notebooks/data_table.ipynb>data table notebook</a>'\n",
              "            + ' to learn more about interactive tables.';\n",
              "          element.innerHTML = '';\n",
              "          dataTable['output_type'] = 'display_data';\n",
              "          await google.colab.output.renderOutput(dataTable, element);\n",
              "          const docLink = document.createElement('div');\n",
              "          docLink.innerHTML = docLinkHtml;\n",
              "          element.appendChild(docLink);\n",
              "        }\n",
              "      </script>\n",
              "    </div>\n",
              "  </div>\n",
              "  "
            ],
            "text/plain": [
              "   employee_id         department     region         education gender  \\\n",
              "0        65438  Sales & Marketing   region_7  Master's & above      f   \n",
              "1        65141         Operations  region_22        Bachelor's      m   \n",
              "2         7513  Sales & Marketing  region_19        Bachelor's      m   \n",
              "3         2542  Sales & Marketing  region_23        Bachelor's      m   \n",
              "4        48945         Technology  region_26        Bachelor's      m   \n",
              "\n",
              "  recruitment_channel  no_of_trainings  age  previous_year_rating  \\\n",
              "0            sourcing                1   35                   5.0   \n",
              "1               other                1   30                   5.0   \n",
              "2            sourcing                1   34                   3.0   \n",
              "3               other                2   39                   1.0   \n",
              "4               other                1   45                   3.0   \n",
              "\n",
              "   length_of_service  KPIs_met >80%  awards_won?  avg_training_score  \\\n",
              "0                  8              1            0                  49   \n",
              "1                  4              0            0                  60   \n",
              "2                  7              0            0                  50   \n",
              "3                 10              0            0                  50   \n",
              "4                  2              0            0                  73   \n",
              "\n",
              "   is_promoted  \n",
              "0            0  \n",
              "1            0  \n",
              "2            0  \n",
              "3            0  \n",
              "4            0  "
            ]
          },
          "execution_count": 2,
          "metadata": {},
          "output_type": "execute_result"
        }
      ],
      "source": [
        "hr = pd.read_csv('https://bit.ly/2ODZvLCHRDataset')\n",
        "hr.head()"
      ]
    },
    {
      "cell_type": "code",
      "execution_count": null,
      "metadata": {
        "colab": {
          "base_uri": "https://localhost:8080/",
          "height": 488
        },
        "id": "Fz5a_o3BUyZv",
        "outputId": "dbdf9cd0-0e9d-425b-e3cc-5b71f92edaec"
      },
      "outputs": [
        {
          "data": {
            "text/html": [
              "\n",
              "  <div id=\"df-3b31a128-afc3-4f36-860c-3724e0d99e03\">\n",
              "    <div class=\"colab-df-container\">\n",
              "      <div>\n",
              "<style scoped>\n",
              "    .dataframe tbody tr th:only-of-type {\n",
              "        vertical-align: middle;\n",
              "    }\n",
              "\n",
              "    .dataframe tbody tr th {\n",
              "        vertical-align: top;\n",
              "    }\n",
              "\n",
              "    .dataframe thead th {\n",
              "        text-align: right;\n",
              "    }\n",
              "</style>\n",
              "<table border=\"1\" class=\"dataframe\">\n",
              "  <thead>\n",
              "    <tr style=\"text-align: right;\">\n",
              "      <th></th>\n",
              "      <th>0</th>\n",
              "    </tr>\n",
              "  </thead>\n",
              "  <tbody>\n",
              "    <tr>\n",
              "      <th>0</th>\n",
              "      <td>employee_id - Unique ID for employee</td>\n",
              "    </tr>\n",
              "    <tr>\n",
              "      <th>1</th>\n",
              "      <td>department - Department of employee</td>\n",
              "    </tr>\n",
              "    <tr>\n",
              "      <th>2</th>\n",
              "      <td>region - Region of employment (unordered)</td>\n",
              "    </tr>\n",
              "    <tr>\n",
              "      <th>3</th>\n",
              "      <td>education - Education Level</td>\n",
              "    </tr>\n",
              "    <tr>\n",
              "      <th>4</th>\n",
              "      <td>gender - Gender of Employee</td>\n",
              "    </tr>\n",
              "    <tr>\n",
              "      <th>5</th>\n",
              "      <td>recruitment_channel - Channel of recruitment for employee</td>\n",
              "    </tr>\n",
              "    <tr>\n",
              "      <th>6</th>\n",
              "      <td>nooftrainings - no of other trainings completed in previous year on soft skills, technical skills etc.</td>\n",
              "    </tr>\n",
              "    <tr>\n",
              "      <th>7</th>\n",
              "      <td>age - Age of Employee</td>\n",
              "    </tr>\n",
              "    <tr>\n",
              "      <th>8</th>\n",
              "      <td>previousyearrating - Employee Rating for the previous year</td>\n",
              "    </tr>\n",
              "    <tr>\n",
              "      <th>9</th>\n",
              "      <td>lengthofservice - Length of service in years</td>\n",
              "    </tr>\n",
              "    <tr>\n",
              "      <th>10</th>\n",
              "      <td>KPIs_met &gt;80% - if Percent of KPIs(Key performance Indicators) &gt;80% then 1 else 0</td>\n",
              "    </tr>\n",
              "    <tr>\n",
              "      <th>11</th>\n",
              "      <td>awards_won? - if awards won during previous year then 1 else 0</td>\n",
              "    </tr>\n",
              "    <tr>\n",
              "      <th>12</th>\n",
              "      <td>avgtrainingscore - Average score in current training evaluations</td>\n",
              "    </tr>\n",
              "    <tr>\n",
              "      <th>13</th>\n",
              "      <td>is_promoted (Target) Recommended for promotion</td>\n",
              "    </tr>\n",
              "  </tbody>\n",
              "</table>\n",
              "</div>\n",
              "      <button class=\"colab-df-convert\" onclick=\"convertToInteractive('df-3b31a128-afc3-4f36-860c-3724e0d99e03')\"\n",
              "              title=\"Convert this dataframe to an interactive table.\"\n",
              "              style=\"display:none;\">\n",
              "        \n",
              "  <svg xmlns=\"http://www.w3.org/2000/svg\" height=\"24px\"viewBox=\"0 0 24 24\"\n",
              "       width=\"24px\">\n",
              "    <path d=\"M0 0h24v24H0V0z\" fill=\"none\"/>\n",
              "    <path d=\"M18.56 5.44l.94 2.06.94-2.06 2.06-.94-2.06-.94-.94-2.06-.94 2.06-2.06.94zm-11 1L8.5 8.5l.94-2.06 2.06-.94-2.06-.94L8.5 2.5l-.94 2.06-2.06.94zm10 10l.94 2.06.94-2.06 2.06-.94-2.06-.94-.94-2.06-.94 2.06-2.06.94z\"/><path d=\"M17.41 7.96l-1.37-1.37c-.4-.4-.92-.59-1.43-.59-.52 0-1.04.2-1.43.59L10.3 9.45l-7.72 7.72c-.78.78-.78 2.05 0 2.83L4 21.41c.39.39.9.59 1.41.59.51 0 1.02-.2 1.41-.59l7.78-7.78 2.81-2.81c.8-.78.8-2.07 0-2.86zM5.41 20L4 18.59l7.72-7.72 1.47 1.35L5.41 20z\"/>\n",
              "  </svg>\n",
              "      </button>\n",
              "      \n",
              "  <style>\n",
              "    .colab-df-container {\n",
              "      display:flex;\n",
              "      flex-wrap:wrap;\n",
              "      gap: 12px;\n",
              "    }\n",
              "\n",
              "    .colab-df-convert {\n",
              "      background-color: #E8F0FE;\n",
              "      border: none;\n",
              "      border-radius: 50%;\n",
              "      cursor: pointer;\n",
              "      display: none;\n",
              "      fill: #1967D2;\n",
              "      height: 32px;\n",
              "      padding: 0 0 0 0;\n",
              "      width: 32px;\n",
              "    }\n",
              "\n",
              "    .colab-df-convert:hover {\n",
              "      background-color: #E2EBFA;\n",
              "      box-shadow: 0px 1px 2px rgba(60, 64, 67, 0.3), 0px 1px 3px 1px rgba(60, 64, 67, 0.15);\n",
              "      fill: #174EA6;\n",
              "    }\n",
              "\n",
              "    [theme=dark] .colab-df-convert {\n",
              "      background-color: #3B4455;\n",
              "      fill: #D2E3FC;\n",
              "    }\n",
              "\n",
              "    [theme=dark] .colab-df-convert:hover {\n",
              "      background-color: #434B5C;\n",
              "      box-shadow: 0px 1px 3px 1px rgba(0, 0, 0, 0.15);\n",
              "      filter: drop-shadow(0px 1px 2px rgba(0, 0, 0, 0.3));\n",
              "      fill: #FFFFFF;\n",
              "    }\n",
              "  </style>\n",
              "\n",
              "      <script>\n",
              "        const buttonEl =\n",
              "          document.querySelector('#df-3b31a128-afc3-4f36-860c-3724e0d99e03 button.colab-df-convert');\n",
              "        buttonEl.style.display =\n",
              "          google.colab.kernel.accessAllowed ? 'block' : 'none';\n",
              "\n",
              "        async function convertToInteractive(key) {\n",
              "          const element = document.querySelector('#df-3b31a128-afc3-4f36-860c-3724e0d99e03');\n",
              "          const dataTable =\n",
              "            await google.colab.kernel.invokeFunction('convertToInteractive',\n",
              "                                                     [key], {});\n",
              "          if (!dataTable) return;\n",
              "\n",
              "          const docLinkHtml = 'Like what you see? Visit the ' +\n",
              "            '<a target=\"_blank\" href=https://colab.research.google.com/notebooks/data_table.ipynb>data table notebook</a>'\n",
              "            + ' to learn more about interactive tables.';\n",
              "          element.innerHTML = '';\n",
              "          dataTable['output_type'] = 'display_data';\n",
              "          await google.colab.output.renderOutput(dataTable, element);\n",
              "          const docLink = document.createElement('div');\n",
              "          docLink.innerHTML = docLinkHtml;\n",
              "          element.appendChild(docLink);\n",
              "        }\n",
              "      </script>\n",
              "    </div>\n",
              "  </div>\n",
              "  "
            ],
            "text/plain": [
              "                                                                                                         0\n",
              "0                                                                     employee_id - Unique ID for employee\n",
              "1                                                                      department - Department of employee\n",
              "2                                                                region - Region of employment (unordered)\n",
              "3                                                                              education - Education Level\n",
              "4                                                                              gender - Gender of Employee\n",
              "5                                                recruitment_channel - Channel of recruitment for employee\n",
              "6   nooftrainings - no of other trainings completed in previous year on soft skills, technical skills etc.\n",
              "7                                                                                    age - Age of Employee\n",
              "8                                               previousyearrating - Employee Rating for the previous year\n",
              "9                                                             lengthofservice - Length of service in years\n",
              "10                       KPIs_met >80% - if Percent of KPIs(Key performance Indicators) >80% then 1 else 0\n",
              "11                                          awards_won? - if awards won during previous year then 1 else 0\n",
              "12                                        avgtrainingscore - Average score in current training evaluations\n",
              "13                                                          is_promoted (Target) Recommended for promotion"
            ]
          },
          "execution_count": 3,
          "metadata": {},
          "output_type": "execute_result"
        }
      ],
      "source": [
        "glossary = pd.read_csv('https://bit.ly/2Wz3sWcGlossary ', header = None)\n",
        "glossary"
      ]
    },
    {
      "cell_type": "code",
      "execution_count": null,
      "metadata": {
        "id": "kh_Y0HtRUyZ1"
      },
      "outputs": [],
      "source": [
        "# dropping 'employeeid' variable\n",
        "hr = hr.drop(columns = ['employee_id'])"
      ]
    },
    {
      "cell_type": "code",
      "execution_count": null,
      "metadata": {
        "colab": {
          "base_uri": "https://localhost:8080/"
        },
        "id": "6jsDNwZNUyZ7",
        "outputId": "85e8ca34-1a4b-49cc-ae41-561d7a8bfed6"
      },
      "outputs": [
        {
          "data": {
            "text/plain": [
              "(54808, 13)"
            ]
          },
          "execution_count": 5,
          "metadata": {},
          "output_type": "execute_result"
        }
      ],
      "source": [
        "# check dataset shape\n",
        "hr.shape"
      ]
    },
    {
      "cell_type": "code",
      "execution_count": null,
      "metadata": {
        "colab": {
          "base_uri": "https://localhost:8080/"
        },
        "id": "NLtGO2KzUyZ_",
        "outputId": "8dcbc881-92c6-440e-d9e5-e8c7146a17b1"
      },
      "outputs": [
        {
          "data": {
            "text/plain": [
              "(54690, 13)"
            ]
          },
          "execution_count": 6,
          "metadata": {},
          "output_type": "execute_result"
        }
      ],
      "source": [
        "# drop duplicates, if any\n",
        "hr.drop_duplicates(inplace = True)\n",
        "hr.shape"
      ]
    },
    {
      "cell_type": "code",
      "execution_count": null,
      "metadata": {
        "colab": {
          "base_uri": "https://localhost:8080/"
        },
        "id": "z0QnM_8IUyaG",
        "outputId": "8f8f9775-0cf5-4980-f494-fbcba2fd4d98"
      },
      "outputs": [
        {
          "data": {
            "text/plain": [
              "department                 0\n",
              "region                     0\n",
              "education               2398\n",
              "gender                     0\n",
              "recruitment_channel        0\n",
              "no_of_trainings            0\n",
              "age                        0\n",
              "previous_year_rating    4062\n",
              "length_of_service          0\n",
              "KPIs_met >80%              0\n",
              "awards_won?                0\n",
              "avg_training_score         0\n",
              "is_promoted                0\n",
              "dtype: int64"
            ]
          },
          "execution_count": 7,
          "metadata": {},
          "output_type": "execute_result"
        }
      ],
      "source": [
        "# check for missing values\n",
        "hr.isna().sum()"
      ]
    },
    {
      "cell_type": "code",
      "execution_count": null,
      "metadata": {
        "colab": {
          "base_uri": "https://localhost:8080/"
        },
        "id": "BT5KqIs-UyaL",
        "outputId": "02359985-5e9c-4fc0-e53e-b19e7ed0e692"
      },
      "outputs": [
        {
          "data": {
            "text/plain": [
              "department              0\n",
              "region                  0\n",
              "education               0\n",
              "gender                  0\n",
              "recruitment_channel     0\n",
              "no_of_trainings         0\n",
              "age                     0\n",
              "previous_year_rating    0\n",
              "length_of_service       0\n",
              "KPIs_met >80%           0\n",
              "awards_won?             0\n",
              "avg_training_score      0\n",
              "is_promoted             0\n",
              "dtype: int64"
            ]
          },
          "execution_count": 8,
          "metadata": {},
          "output_type": "execute_result"
        }
      ],
      "source": [
        "# dropping records with null values\n",
        "hr.dropna(inplace = True, axis = 0)\n",
        "hr.isna().sum()"
      ]
    },
    {
      "cell_type": "code",
      "execution_count": null,
      "metadata": {
        "colab": {
          "base_uri": "https://localhost:8080/"
        },
        "id": "MS3vI3lpUyaP",
        "outputId": "8bf1cae2-df03-4854-e09e-1646b518b112"
      },
      "outputs": [
        {
          "data": {
            "text/plain": [
              "department               object\n",
              "region                   object\n",
              "education                object\n",
              "gender                   object\n",
              "recruitment_channel      object\n",
              "no_of_trainings           int64\n",
              "age                       int64\n",
              "previous_year_rating    float64\n",
              "length_of_service         int64\n",
              "KPIs_met >80%             int64\n",
              "awards_won?               int64\n",
              "avg_training_score        int64\n",
              "is_promoted               int64\n",
              "dtype: object"
            ]
          },
          "execution_count": 9,
          "metadata": {},
          "output_type": "execute_result"
        }
      ],
      "source": [
        "# checking the data types\n",
        "hr.dtypes"
      ]
    },
    {
      "cell_type": "code",
      "execution_count": null,
      "metadata": {
        "colab": {
          "base_uri": "https://localhost:8080/"
        },
        "id": "nZ5u1o6fUyaT",
        "outputId": "2497901a-7dc5-4adc-a307-d014ac3b3f98"
      },
      "outputs": [
        {
          "name": "stdout",
          "output_type": "stream",
          "text": [
            "Variable: department\n",
            "Number of unique values: 9\n",
            "['Sales & Marketing' 'Operations' 'Technology' 'Analytics' 'R&D'\n",
            " 'Procurement' 'Finance' 'HR' 'Legal']\n",
            "\n",
            "Variable: region\n",
            "Number of unique values: 34\n",
            "['region_7' 'region_22' 'region_19' 'region_23' 'region_26' 'region_2'\n",
            " 'region_20' 'region_34' 'region_1' 'region_4' 'region_29' 'region_31'\n",
            " 'region_15' 'region_14' 'region_11' 'region_5' 'region_28' 'region_17'\n",
            " 'region_13' 'region_16' 'region_25' 'region_10' 'region_27' 'region_30'\n",
            " 'region_12' 'region_21' 'region_32' 'region_6' 'region_33' 'region_8'\n",
            " 'region_24' 'region_3' 'region_9' 'region_18']\n",
            "\n",
            "Variable: education\n",
            "Number of unique values: 3\n",
            "[\"Master's & above\" \"Bachelor's\" 'Below Secondary']\n",
            "\n",
            "Variable: gender\n",
            "Number of unique values: 2\n",
            "['f' 'm']\n",
            "\n",
            "Variable: recruitment_channel\n",
            "Number of unique values: 3\n",
            "['sourcing' 'other' 'referred']\n",
            "\n",
            "Variable: no_of_trainings\n",
            "Number of unique values: 10\n",
            "[ 1  2  3  4  7  5  6 10  8  9]\n",
            "\n",
            "Variable: age\n",
            "Number of unique values: 41\n",
            "[35 30 34 39 45 31 33 28 32 49 37 38 27 29 26 57 40 42 23 59 44 50 56 20\n",
            " 25 41 47 36 46 60 43 54 24 22 58 48 55 51 52 53 21]\n",
            "\n",
            "Variable: previous_year_rating\n",
            "Number of unique values: 5\n",
            "[5. 3. 1. 4. 2.]\n",
            "\n",
            "Variable: length_of_service\n",
            "Number of unique values: 35\n",
            "[ 8  4  7 10  2  5  6  3 16  9 26 12 11 17 14 13 19 15 23 20 18 22 25 28\n",
            "  1 24 31 21 29 30 34 27 33 32 37]\n",
            "\n",
            "Variable: KPIs_met >80%\n",
            "Number of unique values: 2\n",
            "[1 0]\n",
            "\n",
            "Variable: awards_won?\n",
            "Number of unique values: 2\n",
            "[0 1]\n",
            "\n",
            "Variable: avg_training_score\n",
            "Number of unique values: 61\n",
            "[49 60 50 73 85 59 63 83 54 80 84 77 51 46 75 68 79 72 61 58 87 47 57 52\n",
            " 88 71 48 65 62 53 78 44 91 82 69 74 86 90 92 67 89 56 76 81 70 45 55 39\n",
            " 94 93 64 66 95 42 96 40 99 43 97 41 98]\n",
            "\n",
            "Variable: is_promoted\n",
            "Number of unique values: 2\n",
            "[0 1]\n",
            "\n"
          ]
        }
      ],
      "source": [
        "# getting the unique values of each variable\n",
        "cols = hr.columns.to_list()\n",
        "\n",
        "for col in cols:\n",
        "    print(\"Variable:\", col)\n",
        "    print(\"Number of unique values:\", hr[col].nunique())\n",
        "    print(hr[col].unique())\n",
        "    print()"
      ]
    },
    {
      "cell_type": "markdown",
      "metadata": {
        "id": "y7HKrxehUyaZ"
      },
      "source": [
        "We should strip the values of the \"region\" variable so we are left with only the region numbers."
      ]
    },
    {
      "cell_type": "code",
      "execution_count": null,
      "metadata": {
        "colab": {
          "base_uri": "https://localhost:8080/",
          "height": 339
        },
        "id": "6lZqHk0MUyaa",
        "outputId": "8c68f6d5-057d-4e4e-99bb-3b010d5ddf4a"
      },
      "outputs": [
        {
          "data": {
            "text/html": [
              "\n",
              "  <div id=\"df-7fba4138-01ce-43f0-8ccf-5b52f689087e\">\n",
              "    <div class=\"colab-df-container\">\n",
              "      <div>\n",
              "<style scoped>\n",
              "    .dataframe tbody tr th:only-of-type {\n",
              "        vertical-align: middle;\n",
              "    }\n",
              "\n",
              "    .dataframe tbody tr th {\n",
              "        vertical-align: top;\n",
              "    }\n",
              "\n",
              "    .dataframe thead th {\n",
              "        text-align: right;\n",
              "    }\n",
              "</style>\n",
              "<table border=\"1\" class=\"dataframe\">\n",
              "  <thead>\n",
              "    <tr style=\"text-align: right;\">\n",
              "      <th></th>\n",
              "      <th>department</th>\n",
              "      <th>region</th>\n",
              "      <th>education</th>\n",
              "      <th>gender</th>\n",
              "      <th>recruitment_channel</th>\n",
              "      <th>no_of_trainings</th>\n",
              "      <th>age</th>\n",
              "      <th>previous_year_rating</th>\n",
              "      <th>length_of_service</th>\n",
              "      <th>KPIs_met &gt;80%</th>\n",
              "      <th>awards_won?</th>\n",
              "      <th>avg_training_score</th>\n",
              "      <th>is_promoted</th>\n",
              "    </tr>\n",
              "  </thead>\n",
              "  <tbody>\n",
              "    <tr>\n",
              "      <th>0</th>\n",
              "      <td>Sales &amp; Marketing</td>\n",
              "      <td>7</td>\n",
              "      <td>Master's &amp; above</td>\n",
              "      <td>f</td>\n",
              "      <td>sourcing</td>\n",
              "      <td>1</td>\n",
              "      <td>35</td>\n",
              "      <td>5.0</td>\n",
              "      <td>8</td>\n",
              "      <td>1</td>\n",
              "      <td>0</td>\n",
              "      <td>49</td>\n",
              "      <td>0</td>\n",
              "    </tr>\n",
              "    <tr>\n",
              "      <th>1</th>\n",
              "      <td>Operations</td>\n",
              "      <td>22</td>\n",
              "      <td>Bachelor's</td>\n",
              "      <td>m</td>\n",
              "      <td>other</td>\n",
              "      <td>1</td>\n",
              "      <td>30</td>\n",
              "      <td>5.0</td>\n",
              "      <td>4</td>\n",
              "      <td>0</td>\n",
              "      <td>0</td>\n",
              "      <td>60</td>\n",
              "      <td>0</td>\n",
              "    </tr>\n",
              "    <tr>\n",
              "      <th>2</th>\n",
              "      <td>Sales &amp; Marketing</td>\n",
              "      <td>19</td>\n",
              "      <td>Bachelor's</td>\n",
              "      <td>m</td>\n",
              "      <td>sourcing</td>\n",
              "      <td>1</td>\n",
              "      <td>34</td>\n",
              "      <td>3.0</td>\n",
              "      <td>7</td>\n",
              "      <td>0</td>\n",
              "      <td>0</td>\n",
              "      <td>50</td>\n",
              "      <td>0</td>\n",
              "    </tr>\n",
              "    <tr>\n",
              "      <th>3</th>\n",
              "      <td>Sales &amp; Marketing</td>\n",
              "      <td>23</td>\n",
              "      <td>Bachelor's</td>\n",
              "      <td>m</td>\n",
              "      <td>other</td>\n",
              "      <td>2</td>\n",
              "      <td>39</td>\n",
              "      <td>1.0</td>\n",
              "      <td>10</td>\n",
              "      <td>0</td>\n",
              "      <td>0</td>\n",
              "      <td>50</td>\n",
              "      <td>0</td>\n",
              "    </tr>\n",
              "    <tr>\n",
              "      <th>4</th>\n",
              "      <td>Technology</td>\n",
              "      <td>26</td>\n",
              "      <td>Bachelor's</td>\n",
              "      <td>m</td>\n",
              "      <td>other</td>\n",
              "      <td>1</td>\n",
              "      <td>45</td>\n",
              "      <td>3.0</td>\n",
              "      <td>2</td>\n",
              "      <td>0</td>\n",
              "      <td>0</td>\n",
              "      <td>73</td>\n",
              "      <td>0</td>\n",
              "    </tr>\n",
              "  </tbody>\n",
              "</table>\n",
              "</div>\n",
              "      <button class=\"colab-df-convert\" onclick=\"convertToInteractive('df-7fba4138-01ce-43f0-8ccf-5b52f689087e')\"\n",
              "              title=\"Convert this dataframe to an interactive table.\"\n",
              "              style=\"display:none;\">\n",
              "        \n",
              "  <svg xmlns=\"http://www.w3.org/2000/svg\" height=\"24px\"viewBox=\"0 0 24 24\"\n",
              "       width=\"24px\">\n",
              "    <path d=\"M0 0h24v24H0V0z\" fill=\"none\"/>\n",
              "    <path d=\"M18.56 5.44l.94 2.06.94-2.06 2.06-.94-2.06-.94-.94-2.06-.94 2.06-2.06.94zm-11 1L8.5 8.5l.94-2.06 2.06-.94-2.06-.94L8.5 2.5l-.94 2.06-2.06.94zm10 10l.94 2.06.94-2.06 2.06-.94-2.06-.94-.94-2.06-.94 2.06-2.06.94z\"/><path d=\"M17.41 7.96l-1.37-1.37c-.4-.4-.92-.59-1.43-.59-.52 0-1.04.2-1.43.59L10.3 9.45l-7.72 7.72c-.78.78-.78 2.05 0 2.83L4 21.41c.39.39.9.59 1.41.59.51 0 1.02-.2 1.41-.59l7.78-7.78 2.81-2.81c.8-.78.8-2.07 0-2.86zM5.41 20L4 18.59l7.72-7.72 1.47 1.35L5.41 20z\"/>\n",
              "  </svg>\n",
              "      </button>\n",
              "      \n",
              "  <style>\n",
              "    .colab-df-container {\n",
              "      display:flex;\n",
              "      flex-wrap:wrap;\n",
              "      gap: 12px;\n",
              "    }\n",
              "\n",
              "    .colab-df-convert {\n",
              "      background-color: #E8F0FE;\n",
              "      border: none;\n",
              "      border-radius: 50%;\n",
              "      cursor: pointer;\n",
              "      display: none;\n",
              "      fill: #1967D2;\n",
              "      height: 32px;\n",
              "      padding: 0 0 0 0;\n",
              "      width: 32px;\n",
              "    }\n",
              "\n",
              "    .colab-df-convert:hover {\n",
              "      background-color: #E2EBFA;\n",
              "      box-shadow: 0px 1px 2px rgba(60, 64, 67, 0.3), 0px 1px 3px 1px rgba(60, 64, 67, 0.15);\n",
              "      fill: #174EA6;\n",
              "    }\n",
              "\n",
              "    [theme=dark] .colab-df-convert {\n",
              "      background-color: #3B4455;\n",
              "      fill: #D2E3FC;\n",
              "    }\n",
              "\n",
              "    [theme=dark] .colab-df-convert:hover {\n",
              "      background-color: #434B5C;\n",
              "      box-shadow: 0px 1px 3px 1px rgba(0, 0, 0, 0.15);\n",
              "      filter: drop-shadow(0px 1px 2px rgba(0, 0, 0, 0.3));\n",
              "      fill: #FFFFFF;\n",
              "    }\n",
              "  </style>\n",
              "\n",
              "      <script>\n",
              "        const buttonEl =\n",
              "          document.querySelector('#df-7fba4138-01ce-43f0-8ccf-5b52f689087e button.colab-df-convert');\n",
              "        buttonEl.style.display =\n",
              "          google.colab.kernel.accessAllowed ? 'block' : 'none';\n",
              "\n",
              "        async function convertToInteractive(key) {\n",
              "          const element = document.querySelector('#df-7fba4138-01ce-43f0-8ccf-5b52f689087e');\n",
              "          const dataTable =\n",
              "            await google.colab.kernel.invokeFunction('convertToInteractive',\n",
              "                                                     [key], {});\n",
              "          if (!dataTable) return;\n",
              "\n",
              "          const docLinkHtml = 'Like what you see? Visit the ' +\n",
              "            '<a target=\"_blank\" href=https://colab.research.google.com/notebooks/data_table.ipynb>data table notebook</a>'\n",
              "            + ' to learn more about interactive tables.';\n",
              "          element.innerHTML = '';\n",
              "          dataTable['output_type'] = 'display_data';\n",
              "          await google.colab.output.renderOutput(dataTable, element);\n",
              "          const docLink = document.createElement('div');\n",
              "          docLink.innerHTML = docLinkHtml;\n",
              "          element.appendChild(docLink);\n",
              "        }\n",
              "      </script>\n",
              "    </div>\n",
              "  </div>\n",
              "  "
            ],
            "text/plain": [
              "          department region         education gender recruitment_channel  \\\n",
              "0  Sales & Marketing      7  Master's & above      f            sourcing   \n",
              "1         Operations     22        Bachelor's      m               other   \n",
              "2  Sales & Marketing     19        Bachelor's      m            sourcing   \n",
              "3  Sales & Marketing     23        Bachelor's      m               other   \n",
              "4         Technology     26        Bachelor's      m               other   \n",
              "\n",
              "   no_of_trainings  age  previous_year_rating  length_of_service  \\\n",
              "0                1   35                   5.0                  8   \n",
              "1                1   30                   5.0                  4   \n",
              "2                1   34                   3.0                  7   \n",
              "3                2   39                   1.0                 10   \n",
              "4                1   45                   3.0                  2   \n",
              "\n",
              "   KPIs_met >80%  awards_won?  avg_training_score  is_promoted  \n",
              "0              1            0                  49            0  \n",
              "1              0            0                  60            0  \n",
              "2              0            0                  50            0  \n",
              "3              0            0                  50            0  \n",
              "4              0            0                  73            0  "
            ]
          },
          "execution_count": 11,
          "metadata": {},
          "output_type": "execute_result"
        }
      ],
      "source": [
        "# striping \"region_\" from the 'region' variable\n",
        "hr['region'] = hr['region'].str.strip('region_')\n",
        "hr.head()"
      ]
    },
    {
      "cell_type": "code",
      "execution_count": null,
      "metadata": {
        "colab": {
          "base_uri": "https://localhost:8080/",
          "height": 484
        },
        "id": "GdIOPf_pUyae",
        "outputId": "d97e38f0-9c9b-4c5a-a4ce-e4e962b6bda6"
      },
      "outputs": [
        {
          "data": {
            "image/png": "[encoded data removed]",
            "text/plain": [
              "<Figure size 1008x576 with 1 Axes>"
            ]
          },
          "metadata": {},
          "output_type": "display_data"
        }
      ],
      "source": [
        "# checking for outliers\n",
        "plt.figure(figsize = (14, 8))\n",
        "hr.boxplot()\n",
        "plt.show()"
      ]
    },
    {
      "cell_type": "markdown",
      "metadata": {
        "id": "e2izvGHSUyah"
      },
      "source": [
        "We see that several variables have outliers, especially 'no_of_trainings', 'age', and 'length_of_service'. This would be problematic when using some classification techniques such as logistic regression which assume that there are no outliers in the data. However, we will not remove these outliers."
      ]
    },
    {
      "cell_type": "markdown",
      "metadata": {
        "id": "SlFxllczUyai"
      },
      "source": [
        "## <font color='#2F4F4F'>3. Data Analysis</font>"
      ]
    },
    {
      "cell_type": "markdown",
      "metadata": {
        "id": "coemyNdFUyaj"
      },
      "source": [
        "### 3.1 Univariate Analysis"
      ]
    },
    {
      "cell_type": "code",
      "execution_count": null,
      "metadata": {
        "colab": {
          "base_uri": "https://localhost:8080/",
          "height": 520
        },
        "id": "mTZoLM71Uyak",
        "outputId": "a3db5fed-793b-40fb-9d17-451e231c3a2c"
      },
      "outputs": [
        {
          "data": {
            "image/png": "[encoded data removed]",
            "text/plain": [
              "<Figure size 720x576 with 1 Axes>"
            ]
          },
          "metadata": {},
          "output_type": "display_data"
        }
      ],
      "source": [
        "# distribution of department\n",
        "plt.figure(figsize = (10, 8))\n",
        "hr.department.value_counts().plot(kind = 'bar', rot = 25)\n",
        "plt.show()"
      ]
    },
    {
      "cell_type": "markdown",
      "metadata": {
        "id": "xKFguH1pUyao"
      },
      "source": [
        "We see that majority of the employees are in Sales and Marketing."
      ]
    },
    {
      "cell_type": "code",
      "execution_count": null,
      "metadata": {
        "colab": {
          "base_uri": "https://localhost:8080/"
        },
        "id": "FJBA-cfiUyap",
        "outputId": "3043c7a2-298c-4edc-bb9c-2583a4ef5e11"
      },
      "outputs": [
        {
          "data": {
            "text/plain": [
              "2     10797\n",
              "22     5427\n",
              "7      4395\n",
              "15     2504\n",
              "13     2459\n",
              "Name: region, dtype: int64"
            ]
          },
          "execution_count": 16,
          "metadata": {},
          "output_type": "execute_result"
        }
      ],
      "source": [
        "# getting the top 5 regions\n",
        "hr.region.value_counts()[:5]"
      ]
    },
    {
      "cell_type": "markdown",
      "metadata": {
        "id": "KaQTdgLyUyas"
      },
      "source": [
        "Region 2 is the leading region."
      ]
    },
    {
      "cell_type": "code",
      "execution_count": null,
      "metadata": {
        "colab": {
          "base_uri": "https://localhost:8080/",
          "height": 357
        },
        "id": "BTkQk_kTUyat",
        "outputId": "5cb1b5ea-7e30-4785-dd6a-d4343a5c4aea"
      },
      "outputs": [
        {
          "data": {
            "image/png": "[encoded data removed]",
            "text/plain": [
              "<Figure size 432x432 with 1 Axes>"
            ]
          },
          "metadata": {},
          "output_type": "display_data"
        }
      ],
      "source": [
        "# pie chart of education\n",
        "plt.figure(figsize = (6, 6))\n",
        "hr.education.value_counts().plot(kind = 'pie', autopct = '%1.1f%%')\n",
        "plt.show()"
      ]
    },
    {
      "cell_type": "markdown",
      "metadata": {
        "id": "iAhtxbY3Uyay"
      },
      "source": [
        "Majority of the employees have a Bachelor's degree while very few have below secondary level of education."
      ]
    },
    {
      "cell_type": "code",
      "execution_count": null,
      "metadata": {
        "colab": {
          "base_uri": "https://localhost:8080/",
          "height": 444
        },
        "id": "y25CzsoeUyaz",
        "outputId": "e5dc97cc-8ed8-4ff2-a1fa-a928345bd2cd"
      },
      "outputs": [
        {
          "name": "stderr",
          "output_type": "stream",
          "text": [
            "/usr/local/lib/python3.7/dist-packages/seaborn/_decorators.py:43: FutureWarning: Pass the following variable as a keyword arg: x. From version 0.12, the only valid positional argument will be `data`, and passing other arguments without an explicit keyword will result in an error or misinterpretation.\n",
            "  FutureWarning\n"
          ]
        },
        {
          "data": {
            "image/png": "[encoded data removed]",
            "text/plain": [
              "<Figure size 576x432 with 1 Axes>"
            ]
          },
          "metadata": {},
          "output_type": "display_data"
        }
      ],
      "source": [
        "# distribution by gender\n",
        "plt.figure(figsize = (8, 6))\n",
        "sns.countplot('gender', data = hr)\n",
        "plt.show()"
      ]
    },
    {
      "cell_type": "markdown",
      "metadata": {
        "id": "yGrrhQyoUya4"
      },
      "source": [
        "There are about twice as many male employees as female employees."
      ]
    },
    {
      "cell_type": "code",
      "execution_count": null,
      "metadata": {
        "colab": {
          "base_uri": "https://localhost:8080/",
          "height": 444
        },
        "id": "iIdqtIE_Uya5",
        "outputId": "542bedf1-1040-4ec8-db2c-7f54bf4a254a"
      },
      "outputs": [
        {
          "name": "stderr",
          "output_type": "stream",
          "text": [
            "/usr/local/lib/python3.7/dist-packages/seaborn/_decorators.py:43: FutureWarning: Pass the following variable as a keyword arg: x. From version 0.12, the only valid positional argument will be `data`, and passing other arguments without an explicit keyword will result in an error or misinterpretation.\n",
            "  FutureWarning\n"
          ]
        },
        {
          "data": {
            "image/png": "[encoded data removed]",
            "text/plain": [
              "<Figure size 576x432 with 1 Axes>"
            ]
          },
          "metadata": {},
          "output_type": "display_data"
        }
      ],
      "source": [
        "# distribution of recruitment channel\n",
        "plt.figure(figsize = (8, 6))\n",
        "sns.countplot('recruitment_channel', data = hr)\n",
        "plt.show()"
      ]
    },
    {
      "cell_type": "markdown",
      "metadata": {
        "id": "AIub2P_9Uya9"
      },
      "source": [
        "Majority of the employees got recruited through other channels while very few were referred."
      ]
    },
    {
      "cell_type": "code",
      "execution_count": null,
      "metadata": {
        "colab": {
          "base_uri": "https://localhost:8080/"
        },
        "id": "5kC0qLgRUya-",
        "outputId": "ad1b5a0f-b5e6-484e-d301-7fbd6d1a97f5"
      },
      "outputs": [
        {
          "data": {
            "text/plain": [
              "1     39350\n",
              "2      7105\n",
              "3      1578\n",
              "4       402\n",
              "5       116\n",
              "6        34\n",
              "7        10\n",
              "10        5\n",
              "8         4\n",
              "9         3\n",
              "Name: no_of_trainings, dtype: int64"
            ]
          },
          "execution_count": 20,
          "metadata": {},
          "output_type": "execute_result"
        }
      ],
      "source": [
        "hr.no_of_trainings.value_counts()"
      ]
    },
    {
      "cell_type": "markdown",
      "metadata": {
        "id": "4VxsyuOKUybC"
      },
      "source": [
        "Most employees have had just 1 training. Very few have more than 6 trainings."
      ]
    },
    {
      "cell_type": "code",
      "execution_count": null,
      "metadata": {
        "colab": {
          "base_uri": "https://localhost:8080/",
          "height": 265
        },
        "id": "JbiUtfmhUybD",
        "outputId": "59f456bb-9714-46e1-ccf1-cdc6d3e1506e"
      },
      "outputs": [
        {
          "data": {
            "image/png": "[encoded data removed]",
            "text/plain": [
              "<Figure size 432x288 with 1 Axes>"
            ]
          },
          "metadata": {},
          "output_type": "display_data"
        }
      ],
      "source": [
        "# histogram of age\n",
        "hr.age.hist()\n",
        "plt.show()"
      ]
    },
    {
      "cell_type": "markdown",
      "metadata": {
        "id": "FvIbhmPFUybH"
      },
      "source": [
        "Majority of the employees are between 27-40 years of age. The distribution is skewed slightly to the right and not completely normal/Gaussian. "
      ]
    },
    {
      "cell_type": "code",
      "execution_count": null,
      "metadata": {
        "colab": {
          "base_uri": "https://localhost:8080/",
          "height": 483
        },
        "id": "BMlkycbnUybI",
        "outputId": "a785ce59-7739-4257-cd02-efa8e193d6d4"
      },
      "outputs": [
        {
          "data": {
            "image/png": "[encoded data removed]",
            "text/plain": [
              "<Figure size 720x576 with 1 Axes>"
            ]
          },
          "metadata": {},
          "output_type": "display_data"
        }
      ],
      "source": [
        "# distribution of previous year's rating\n",
        "plt.figure(figsize = (10, 8))\n",
        "hr.previous_year_rating.value_counts().plot(kind = 'bar', rot = 0)\n",
        "plt.show()"
      ]
    },
    {
      "cell_type": "markdown",
      "metadata": {
        "id": "kUJJyvRAUybN"
      },
      "source": [
        "Majority of employees rated 3 for the previous year, followed by those who rated 5.  "
      ]
    },
    {
      "cell_type": "code",
      "execution_count": null,
      "metadata": {
        "colab": {
          "base_uri": "https://localhost:8080/",
          "height": 357
        },
        "id": "I6yoORoVUybO",
        "outputId": "3c1be191-6d61-4869-b6bd-f45321b321ae"
      },
      "outputs": [
        {
          "data": {
            "image/png": "[encoded data removed]",
            "text/plain": [
              "<Figure size 432x432 with 1 Axes>"
            ]
          },
          "metadata": {},
          "output_type": "display_data"
        }
      ],
      "source": [
        "# distribution of KPI\n",
        "plt.figure(figsize = (6, 6))\n",
        "hr['KPIs_met >80%'].value_counts().plot(kind = 'pie', autopct = '%1.1f%%', explode = (0, 0.01))\n",
        "plt.show()"
      ]
    },
    {
      "cell_type": "markdown",
      "metadata": {
        "id": "FuE7fisAUybU"
      },
      "source": [
        "Majority of the employees did not meet more than 80% KPIs."
      ]
    },
    {
      "cell_type": "code",
      "execution_count": null,
      "metadata": {
        "colab": {
          "base_uri": "https://localhost:8080/",
          "height": 374
        },
        "id": "QYQQbGcPUybU",
        "outputId": "0e572095-3d62-42f4-942a-7de592de3c31"
      },
      "outputs": [
        {
          "data": {
            "image/png": "[encoded data removed]",
            "text/plain": [
              "<Figure size 576x432 with 1 Axes>"
            ]
          },
          "metadata": {},
          "output_type": "display_data"
        }
      ],
      "source": [
        "# distribution of awards won\n",
        "plt.figure(figsize = (8, 6))\n",
        "hr['awards_won?'].value_counts().plot(kind = 'bar', rot = 0)\n",
        "plt.show()"
      ]
    },
    {
      "cell_type": "markdown",
      "metadata": {
        "id": "8_MY3dwMUybZ"
      },
      "source": [
        "Majority of the employees did not win any awards."
      ]
    },
    {
      "cell_type": "code",
      "execution_count": null,
      "metadata": {
        "colab": {
          "base_uri": "https://localhost:8080/",
          "height": 336
        },
        "id": "rNtAJCLQUybb",
        "outputId": "c9f22ef3-50ec-41aa-9c29-db2a7d0997e5"
      },
      "outputs": [
        {
          "name": "stderr",
          "output_type": "stream",
          "text": [
            "/usr/local/lib/python3.7/dist-packages/seaborn/distributions.py:2619: FutureWarning: `distplot` is a deprecated function and will be removed in a future version. Please adapt your code to use either `displot` (a figure-level function with similar flexibility) or `histplot` (an axes-level function for histograms).\n",
            "  warnings.warn(msg, FutureWarning)\n"
          ]
        },
        {
          "data": {
            "image/png": "[encoded data removed]",
            "text/plain": [
              "<Figure size 432x288 with 1 Axes>"
            ]
          },
          "metadata": {},
          "output_type": "display_data"
        }
      ],
      "source": [
        "# distribution of average training score\n",
        "sns.distplot(hr.avg_training_score)\n",
        "plt.show()"
      ]
    },
    {
      "cell_type": "markdown",
      "metadata": {
        "id": "naWVZ5GiUybf"
      },
      "source": [
        "The 'avg_training_score' variable is not normally distributed."
      ]
    },
    {
      "cell_type": "code",
      "execution_count": null,
      "metadata": {
        "colab": {
          "base_uri": "https://localhost:8080/",
          "height": 374
        },
        "id": "z-l4o2ofUybf",
        "outputId": "cc6a61ee-a9ba-4721-cd7a-97ae37b20784"
      },
      "outputs": [
        {
          "data": {
            "image/png": "[encoded data removed]",
            "text/plain": [
              "<Figure size 576x432 with 1 Axes>"
            ]
          },
          "metadata": {},
          "output_type": "display_data"
        }
      ],
      "source": [
        "# distribution of promotion status\n",
        "plt.figure(figsize = (8, 6))\n",
        "hr.is_promoted.value_counts().plot(kind = 'bar', rot = 0)\n",
        "plt.show()"
      ]
    },
    {
      "cell_type": "markdown",
      "metadata": {
        "id": "0HSdZ690Uybj"
      },
      "source": [
        "Majority of the employees are not promoted."
      ]
    },
    {
      "cell_type": "markdown",
      "metadata": {
        "id": "wpU84qZ3Uybj"
      },
      "source": [
        "### 3.2 Bivariate Analysis"
      ]
    },
    {
      "cell_type": "markdown",
      "metadata": {
        "id": "0GQWv61lUybk"
      },
      "source": [
        "We will look at the relationship between our target variable 'is_promoted' and the other variables."
      ]
    },
    {
      "cell_type": "code",
      "execution_count": null,
      "metadata": {
        "colab": {
          "base_uri": "https://localhost:8080/",
          "height": 553
        },
        "id": "O-XoShWgUybl",
        "outputId": "88e7539d-6910-48ca-a5b9-e4225babf111"
      },
      "outputs": [
        {
          "name": "stderr",
          "output_type": "stream",
          "text": [
            "/usr/local/lib/python3.7/dist-packages/seaborn/_decorators.py:43: FutureWarning: Pass the following variable as a keyword arg: x. From version 0.12, the only valid positional argument will be `data`, and passing other arguments without an explicit keyword will result in an error or misinterpretation.\n",
            "  FutureWarning\n"
          ]
        },
        {
          "data": {
            "image/png": "[encoded data removed]",
            "text/plain": [
              "<Figure size 864x576 with 1 Axes>"
            ]
          },
          "metadata": {},
          "output_type": "display_data"
        }
      ],
      "source": [
        "# promotion by department\n",
        "plt.figure(figsize = (12, 8))\n",
        "sns.countplot('department', hue = 'is_promoted', data = hr)\n",
        "plt.show()"
      ]
    },
    {
      "cell_type": "markdown",
      "metadata": {
        "id": "SVCPbT8vUybp"
      },
      "source": [
        "It appears that majority of the emloyees that got promoted are from the Sales & Marketing department, the Operations departent, the Technology department and the Procurement department."
      ]
    },
    {
      "cell_type": "code",
      "execution_count": null,
      "metadata": {
        "colab": {
          "base_uri": "https://localhost:8080/",
          "height": 553
        },
        "id": "uo2SZY9zUybq",
        "outputId": "fd1643ab-45ce-46ea-ac63-967293dbfb76"
      },
      "outputs": [
        {
          "name": "stderr",
          "output_type": "stream",
          "text": [
            "/usr/local/lib/python3.7/dist-packages/seaborn/_decorators.py:43: FutureWarning: Pass the following variable as a keyword arg: x. From version 0.12, the only valid positional argument will be `data`, and passing other arguments without an explicit keyword will result in an error or misinterpretation.\n",
            "  FutureWarning\n"
          ]
        },
        {
          "data": {
            "image/png": "[encoded data removed]",
            "text/plain": [
              "<Figure size 864x576 with 1 Axes>"
            ]
          },
          "metadata": {},
          "output_type": "display_data"
        }
      ],
      "source": [
        "# promotion by region \n",
        "plt.figure(figsize = (12, 8))\n",
        "sns.countplot('region', hue = 'is_promoted', data = hr)\n",
        "plt.show()"
      ]
    },
    {
      "cell_type": "markdown",
      "metadata": {
        "id": "_QYVOAg_Uybw"
      },
      "source": [
        "Regions 2, 22, and 7 show high numbers of promoted employees."
      ]
    },
    {
      "cell_type": "code",
      "execution_count": null,
      "metadata": {
        "colab": {
          "background_save": true
        },
        "id": "iCzosfHWUybw",
        "outputId": "4ea00b69-7818-4248-f1b1-6ffefed56cde"
      },
      "outputs": [
        {
          "name": "stderr",
          "output_type": "stream",
          "text": [
            "/usr/local/lib/python3.7/dist-packages/seaborn/_decorators.py:43: FutureWarning: Pass the following variable as a keyword arg: x. From version 0.12, the only valid positional argument will be `data`, and passing other arguments without an explicit keyword will result in an error or misinterpretation.\n",
            "  FutureWarning\n"
          ]
        },
        {
          "data": {
            "image/png": "[encoded data removed]",
            "text/plain": [
              "<Figure size 576x432 with 1 Axes>"
            ]
          },
          "metadata": {},
          "output_type": "display_data"
        }
      ],
      "source": [
        "# promotion by education\n",
        "plt.figure(figsize = (8, 6))\n",
        "sns.countplot('education', hue = 'is_promoted', data = hr)\n",
        "plt.show()"
      ]
    },
    {
      "cell_type": "markdown",
      "metadata": {
        "id": "cHxhPdLJUyb0"
      },
      "source": [
        "Those with Bachelor-level education were promoted more than those with Master's and above or those with below secondary level education."
      ]
    },
    {
      "cell_type": "code",
      "execution_count": 31,
      "metadata": {
        "id": "2kjLuaS9Uyb0",
        "colab": {
          "base_uri": "https://localhost:8080/",
          "height": 444
        },
        "outputId": "41aa9622-18a1-4acd-e1ac-849aa2fcbae5"
      },
      "outputs": [
        {
          "output_type": "stream",
          "name": "stderr",
          "text": [
            "/usr/local/lib/python3.7/dist-packages/seaborn/_decorators.py:43: FutureWarning: Pass the following variable as a keyword arg: x. From version 0.12, the only valid positional argument will be `data`, and passing other arguments without an explicit keyword will result in an error or misinterpretation.\n",
            "  FutureWarning\n"
          ]
        },
        {
          "output_type": "display_data",
          "data": {
            "image/png": "[encoded data removed]",
            "text/plain": [
              "<Figure size 576x432 with 1 Axes>"
            ]
          },
          "metadata": {
            "needs_background": "light"
          }
        }
      ],
      "source": [
        "# promotion by gender\n",
        "plt.figure(figsize = (8, 6))\n",
        "sns.countplot('gender', hue = 'is_promoted', data = hr)\n",
        "plt.show()"
      ]
    },
    {
      "cell_type": "markdown",
      "metadata": {
        "id": "3fbcqAmYUyb4"
      },
      "source": [
        "More males than females were promoted."
      ]
    },
    {
      "cell_type": "code",
      "execution_count": 32,
      "metadata": {
        "id": "_CH4s4jcUyb5",
        "colab": {
          "base_uri": "https://localhost:8080/",
          "height": 444
        },
        "outputId": "24525546-3a97-40d1-88b3-ad32c83967c5"
      },
      "outputs": [
        {
          "output_type": "stream",
          "name": "stderr",
          "text": [
            "/usr/local/lib/python3.7/dist-packages/seaborn/_decorators.py:43: FutureWarning: Pass the following variable as a keyword arg: x. From version 0.12, the only valid positional argument will be `data`, and passing other arguments without an explicit keyword will result in an error or misinterpretation.\n",
            "  FutureWarning\n"
          ]
        },
        {
          "output_type": "display_data",
          "data": {
            "image/png": "[encoded data removed]",
            "text/plain": [
              "<Figure size 576x432 with 1 Axes>"
            ]
          },
          "metadata": {
            "needs_background": "light"
          }
        }
      ],
      "source": [
        "# promotion by recruitment channel\n",
        "plt.figure(figsize = (8, 6))\n",
        "sns.countplot('recruitment_channel', hue = 'is_promoted', data = hr)\n",
        "plt.show()"
      ]
    },
    {
      "cell_type": "markdown",
      "metadata": {
        "id": "f54K_i4yUyb-"
      },
      "source": [
        "Those who were recruited via other means were promoted the most, closely followed by those who got recruited through sourcing."
      ]
    },
    {
      "cell_type": "code",
      "execution_count": 33,
      "metadata": {
        "id": "IPw784WMUyb_",
        "colab": {
          "base_uri": "https://localhost:8080/",
          "height": 444
        },
        "outputId": "5c8949a1-c6cc-44cb-ab2c-dd53fb9be989"
      },
      "outputs": [
        {
          "output_type": "stream",
          "name": "stderr",
          "text": [
            "/usr/local/lib/python3.7/dist-packages/seaborn/_decorators.py:43: FutureWarning: Pass the following variable as a keyword arg: x. From version 0.12, the only valid positional argument will be `data`, and passing other arguments without an explicit keyword will result in an error or misinterpretation.\n",
            "  FutureWarning\n"
          ]
        },
        {
          "output_type": "display_data",
          "data": {
            "image/png": "[encoded data removed]",
            "text/plain": [
              "<Figure size 576x432 with 1 Axes>"
            ]
          },
          "metadata": {
            "needs_background": "light"
          }
        }
      ],
      "source": [
        "# promotion by number of trainings\n",
        "plt.figure(figsize = (8, 6))\n",
        "sns.countplot('no_of_trainings', hue = 'is_promoted', data = hr)\n",
        "plt.show()"
      ]
    },
    {
      "cell_type": "markdown",
      "metadata": {
        "id": "DM-H-mvPUycC"
      },
      "source": [
        "Those who have 1 training make up the majority of those who got promoted."
      ]
    },
    {
      "cell_type": "code",
      "execution_count": 34,
      "metadata": {
        "id": "gpyCOHrTUycD",
        "colab": {
          "base_uri": "https://localhost:8080/",
          "height": 444
        },
        "outputId": "6d86dd32-7389-4f9e-ddb7-b3aa875f4e24"
      },
      "outputs": [
        {
          "output_type": "stream",
          "name": "stderr",
          "text": [
            "/usr/local/lib/python3.7/dist-packages/seaborn/_decorators.py:43: FutureWarning: Pass the following variable as a keyword arg: x. From version 0.12, the only valid positional argument will be `data`, and passing other arguments without an explicit keyword will result in an error or misinterpretation.\n",
            "  FutureWarning\n"
          ]
        },
        {
          "output_type": "display_data",
          "data": {
            "image/png": "[encoded data removed]",
            "text/plain": [
              "<Figure size 864x432 with 1 Axes>"
            ]
          },
          "metadata": {
            "needs_background": "light"
          }
        }
      ],
      "source": [
        "# promotion by age\n",
        "plt.figure(figsize = (12, 6))\n",
        "sns.countplot('age', hue = 'is_promoted', data = hr)\n",
        "plt.show()"
      ]
    },
    {
      "cell_type": "markdown",
      "metadata": {
        "id": "guknsjMPUycH"
      },
      "source": [
        "Chances of being promoted are high if you're between 26-44 years of age."
      ]
    },
    {
      "cell_type": "code",
      "execution_count": 35,
      "metadata": {
        "id": "99d7pup1UycK",
        "colab": {
          "base_uri": "https://localhost:8080/",
          "height": 444
        },
        "outputId": "e2276c90-ed8e-4026-e2c0-6bb07b0984c8"
      },
      "outputs": [
        {
          "output_type": "stream",
          "name": "stderr",
          "text": [
            "/usr/local/lib/python3.7/dist-packages/seaborn/_decorators.py:43: FutureWarning: Pass the following variable as a keyword arg: x. From version 0.12, the only valid positional argument will be `data`, and passing other arguments without an explicit keyword will result in an error or misinterpretation.\n",
            "  FutureWarning\n"
          ]
        },
        {
          "output_type": "display_data",
          "data": {
            "image/png": "[encoded data removed]",
            "text/plain": [
              "<Figure size 576x432 with 1 Axes>"
            ]
          },
          "metadata": {
            "needs_background": "light"
          }
        }
      ],
      "source": [
        "# promotion by previous year's rating\n",
        "plt.figure(figsize = (8, 6))\n",
        "sns.countplot('previous_year_rating', hue = 'is_promoted', data = hr)\n",
        "plt.show()"
      ]
    },
    {
      "cell_type": "markdown",
      "metadata": {
        "id": "oXTFlVYkUycP"
      },
      "source": [
        "An interesting thing to note is that those who gave 5 as rating for the previous year were promoted more than those who gave a rating of 3 even though the latter outnumber the former."
      ]
    },
    {
      "cell_type": "code",
      "execution_count": 36,
      "metadata": {
        "id": "d5ZE-cVTUycP",
        "colab": {
          "base_uri": "https://localhost:8080/",
          "height": 444
        },
        "outputId": "a8ab44c2-2c91-4003-f6c5-1c7b0db6608b"
      },
      "outputs": [
        {
          "output_type": "stream",
          "name": "stderr",
          "text": [
            "/usr/local/lib/python3.7/dist-packages/seaborn/_decorators.py:43: FutureWarning: Pass the following variable as a keyword arg: x. From version 0.12, the only valid positional argument will be `data`, and passing other arguments without an explicit keyword will result in an error or misinterpretation.\n",
            "  FutureWarning\n"
          ]
        },
        {
          "output_type": "display_data",
          "data": {
            "image/png": "[encoded data removed]",
            "text/plain": [
              "<Figure size 864x432 with 1 Axes>"
            ]
          },
          "metadata": {
            "needs_background": "light"
          }
        }
      ],
      "source": [
        "# promotion by length of service\n",
        "plt.figure(figsize = (12, 6))\n",
        "sns.countplot('length_of_service', hue = 'is_promoted', data = hr)\n",
        "plt.show()"
      ]
    },
    {
      "cell_type": "markdown",
      "metadata": {
        "id": "H56GGRmaUycT"
      },
      "source": [
        "Chances of being promoted are high between 2-7 years of service, before gradually dropping through the years."
      ]
    },
    {
      "cell_type": "code",
      "execution_count": 37,
      "metadata": {
        "id": "MWsnCECXUycU",
        "colab": {
          "base_uri": "https://localhost:8080/",
          "height": 444
        },
        "outputId": "a7a6844e-5540-4425-dd9d-ae1661f6ff52"
      },
      "outputs": [
        {
          "output_type": "stream",
          "name": "stderr",
          "text": [
            "/usr/local/lib/python3.7/dist-packages/seaborn/_decorators.py:43: FutureWarning: Pass the following variable as a keyword arg: x. From version 0.12, the only valid positional argument will be `data`, and passing other arguments without an explicit keyword will result in an error or misinterpretation.\n",
            "  FutureWarning\n"
          ]
        },
        {
          "output_type": "display_data",
          "data": {
            "image/png": "[encoded data removed]",
            "text/plain": [
              "<Figure size 576x432 with 1 Axes>"
            ]
          },
          "metadata": {
            "needs_background": "light"
          }
        }
      ],
      "source": [
        "# promotion by KPIs met\n",
        "plt.figure(figsize = (8, 6))\n",
        "sns.countplot('KPIs_met >80%', hue = 'is_promoted', data = hr)\n",
        "plt.show()"
      ]
    },
    {
      "cell_type": "markdown",
      "metadata": {
        "id": "KS19eFjjUycb"
      },
      "source": [
        "Meeting over 80% of KPIs increased chances of being promoted."
      ]
    },
    {
      "cell_type": "code",
      "execution_count": 38,
      "metadata": {
        "id": "1xwPDhyfUycc",
        "colab": {
          "base_uri": "https://localhost:8080/",
          "height": 444
        },
        "outputId": "5f7c6e43-6338-424c-8c49-c7c195c8ada1"
      },
      "outputs": [
        {
          "output_type": "stream",
          "name": "stderr",
          "text": [
            "/usr/local/lib/python3.7/dist-packages/seaborn/_decorators.py:43: FutureWarning: Pass the following variable as a keyword arg: x. From version 0.12, the only valid positional argument will be `data`, and passing other arguments without an explicit keyword will result in an error or misinterpretation.\n",
            "  FutureWarning\n"
          ]
        },
        {
          "output_type": "display_data",
          "data": {
            "image/png": "[encoded data removed]",
            "text/plain": [
              "<Figure size 576x432 with 1 Axes>"
            ]
          },
          "metadata": {
            "needs_background": "light"
          }
        }
      ],
      "source": [
        "# promotion by awards won\n",
        "plt.figure(figsize = (8, 6))\n",
        "sns.countplot('awards_won?', hue = 'is_promoted', data = hr)\n",
        "plt.show()"
      ]
    },
    {
      "cell_type": "markdown",
      "metadata": {
        "id": "trbM8OAIUyci"
      },
      "source": [
        "Those who did not win any awards were promoted more than those who did. However, because the number of employees who did not win any awards vastly outnumber those who did, it is difficult to ascertain that winning an award influences whether or not you get promoted."
      ]
    },
    {
      "cell_type": "code",
      "execution_count": 39,
      "metadata": {
        "id": "rmNWSMNjUyci",
        "colab": {
          "base_uri": "https://localhost:8080/",
          "height": 444
        },
        "outputId": "5a6729db-7eca-4d95-9b00-9b19aadc73e7"
      },
      "outputs": [
        {
          "output_type": "stream",
          "name": "stderr",
          "text": [
            "/usr/local/lib/python3.7/dist-packages/seaborn/_decorators.py:43: FutureWarning: Pass the following variable as a keyword arg: x. From version 0.12, the only valid positional argument will be `data`, and passing other arguments without an explicit keyword will result in an error or misinterpretation.\n",
            "  FutureWarning\n"
          ]
        },
        {
          "output_type": "display_data",
          "data": {
            "image/png": "[encoded data removed]",
            "text/plain": [
              "<Figure size 1008x432 with 1 Axes>"
            ]
          },
          "metadata": {
            "needs_background": "light"
          }
        }
      ],
      "source": [
        "# promotion by average training score\n",
        "plt.figure(figsize = (14, 6))\n",
        "sns.countplot('avg_training_score', hue = 'is_promoted', data = hr)\n",
        "plt.show()"
      ]
    },
    {
      "cell_type": "markdown",
      "metadata": {
        "id": "TJ4yL2lRUycn"
      },
      "source": [
        "The average training score of those who got promoted fluctuates depending on the number of people with that score. However, having an average score of over 90 increases chcances of being promoted."
      ]
    },
    {
      "cell_type": "markdown",
      "metadata": {
        "id": "hYvEpSkrUyco"
      },
      "source": [
        "#### 3.2.1 Feature Engineering"
      ]
    },
    {
      "cell_type": "markdown",
      "metadata": {
        "id": "ZygrG9MbUyco"
      },
      "source": [
        "To explore the correlations between variables, let us first convert the categorical variables into numerical data. We already stripped 'region' of its non-numeric characters so all that's left to do with it is to cast it as an integer."
      ]
    },
    {
      "cell_type": "code",
      "execution_count": 40,
      "metadata": {
        "id": "kHCH1OsoUycq",
        "colab": {
          "base_uri": "https://localhost:8080/"
        },
        "outputId": "5c5cc55f-68ce-4141-b03e-a50316275f95"
      },
      "outputs": [
        {
          "output_type": "execute_result",
          "data": {
            "text/plain": [
              "dtype('int64')"
            ]
          },
          "metadata": {},
          "execution_count": 40
        }
      ],
      "source": [
        "hr['region'] = hr['region'].astype('int64')\n",
        "hr.region.dtype"
      ]
    },
    {
      "cell_type": "markdown",
      "metadata": {
        "id": "R9HfrZIbUycu"
      },
      "source": [
        "Next, the following variables need to be encoded (converted from categorical to numerical form):\n",
        "- department\n",
        "- education\n",
        "- gender\n",
        "- recruitment channel\n",
        "\n",
        "To quickly encode them, we will use LabelEncoder."
      ]
    },
    {
      "cell_type": "code",
      "execution_count": 41,
      "metadata": {
        "id": "4U8Au7HtUycv",
        "colab": {
          "base_uri": "https://localhost:8080/",
          "height": 305
        },
        "outputId": "8bc3bebb-f1a8-4c7f-9e4e-250235b4a70e"
      },
      "outputs": [
        {
          "output_type": "execute_result",
          "data": {
            "text/html": [
              "\n",
              "  <div id=\"df-c07a455d-cc06-4204-a5e3-f9b510733430\">\n",
              "    <div class=\"colab-df-container\">\n",
              "      <div>\n",
              "<style scoped>\n",
              "    .dataframe tbody tr th:only-of-type {\n",
              "        vertical-align: middle;\n",
              "    }\n",
              "\n",
              "    .dataframe tbody tr th {\n",
              "        vertical-align: top;\n",
              "    }\n",
              "\n",
              "    .dataframe thead th {\n",
              "        text-align: right;\n",
              "    }\n",
              "</style>\n",
              "<table border=\"1\" class=\"dataframe\">\n",
              "  <thead>\n",
              "    <tr style=\"text-align: right;\">\n",
              "      <th></th>\n",
              "      <th>department</th>\n",
              "      <th>region</th>\n",
              "      <th>education</th>\n",
              "      <th>gender</th>\n",
              "      <th>recruitment_channel</th>\n",
              "      <th>no_of_trainings</th>\n",
              "      <th>age</th>\n",
              "      <th>previous_year_rating</th>\n",
              "      <th>length_of_service</th>\n",
              "      <th>KPIs_met &gt;80%</th>\n",
              "      <th>awards_won?</th>\n",
              "      <th>avg_training_score</th>\n",
              "      <th>is_promoted</th>\n",
              "    </tr>\n",
              "  </thead>\n",
              "  <tbody>\n",
              "    <tr>\n",
              "      <th>0</th>\n",
              "      <td>7</td>\n",
              "      <td>7</td>\n",
              "      <td>Master's &amp; above</td>\n",
              "      <td>f</td>\n",
              "      <td>sourcing</td>\n",
              "      <td>1</td>\n",
              "      <td>35</td>\n",
              "      <td>5.0</td>\n",
              "      <td>8</td>\n",
              "      <td>1</td>\n",
              "      <td>0</td>\n",
              "      <td>49</td>\n",
              "      <td>0</td>\n",
              "    </tr>\n",
              "    <tr>\n",
              "      <th>1</th>\n",
              "      <td>4</td>\n",
              "      <td>22</td>\n",
              "      <td>Bachelor's</td>\n",
              "      <td>m</td>\n",
              "      <td>other</td>\n",
              "      <td>1</td>\n",
              "      <td>30</td>\n",
              "      <td>5.0</td>\n",
              "      <td>4</td>\n",
              "      <td>0</td>\n",
              "      <td>0</td>\n",
              "      <td>60</td>\n",
              "      <td>0</td>\n",
              "    </tr>\n",
              "    <tr>\n",
              "      <th>2</th>\n",
              "      <td>7</td>\n",
              "      <td>19</td>\n",
              "      <td>Bachelor's</td>\n",
              "      <td>m</td>\n",
              "      <td>sourcing</td>\n",
              "      <td>1</td>\n",
              "      <td>34</td>\n",
              "      <td>3.0</td>\n",
              "      <td>7</td>\n",
              "      <td>0</td>\n",
              "      <td>0</td>\n",
              "      <td>50</td>\n",
              "      <td>0</td>\n",
              "    </tr>\n",
              "    <tr>\n",
              "      <th>3</th>\n",
              "      <td>7</td>\n",
              "      <td>23</td>\n",
              "      <td>Bachelor's</td>\n",
              "      <td>m</td>\n",
              "      <td>other</td>\n",
              "      <td>2</td>\n",
              "      <td>39</td>\n",
              "      <td>1.0</td>\n",
              "      <td>10</td>\n",
              "      <td>0</td>\n",
              "      <td>0</td>\n",
              "      <td>50</td>\n",
              "      <td>0</td>\n",
              "    </tr>\n",
              "    <tr>\n",
              "      <th>4</th>\n",
              "      <td>8</td>\n",
              "      <td>26</td>\n",
              "      <td>Bachelor's</td>\n",
              "      <td>m</td>\n",
              "      <td>other</td>\n",
              "      <td>1</td>\n",
              "      <td>45</td>\n",
              "      <td>3.0</td>\n",
              "      <td>2</td>\n",
              "      <td>0</td>\n",
              "      <td>0</td>\n",
              "      <td>73</td>\n",
              "      <td>0</td>\n",
              "    </tr>\n",
              "  </tbody>\n",
              "</table>\n",
              "</div>\n",
              "      <button class=\"colab-df-convert\" onclick=\"convertToInteractive('df-c07a455d-cc06-4204-a5e3-f9b510733430')\"\n",
              "              title=\"Convert this dataframe to an interactive table.\"\n",
              "              style=\"display:none;\">\n",
              "        \n",
              "  <svg xmlns=\"http://www.w3.org/2000/svg\" height=\"24px\"viewBox=\"0 0 24 24\"\n",
              "       width=\"24px\">\n",
              "    <path d=\"M0 0h24v24H0V0z\" fill=\"none\"/>\n",
              "    <path d=\"M18.56 5.44l.94 2.06.94-2.06 2.06-.94-2.06-.94-.94-2.06-.94 2.06-2.06.94zm-11 1L8.5 8.5l.94-2.06 2.06-.94-2.06-.94L8.5 2.5l-.94 2.06-2.06.94zm10 10l.94 2.06.94-2.06 2.06-.94-2.06-.94-.94-2.06-.94 2.06-2.06.94z\"/><path d=\"M17.41 7.96l-1.37-1.37c-.4-.4-.92-.59-1.43-.59-.52 0-1.04.2-1.43.59L10.3 9.45l-7.72 7.72c-.78.78-.78 2.05 0 2.83L4 21.41c.39.39.9.59 1.41.59.51 0 1.02-.2 1.41-.59l7.78-7.78 2.81-2.81c.8-.78.8-2.07 0-2.86zM5.41 20L4 18.59l7.72-7.72 1.47 1.35L5.41 20z\"/>\n",
              "  </svg>\n",
              "      </button>\n",
              "      \n",
              "  <style>\n",
              "    .colab-df-container {\n",
              "      display:flex;\n",
              "      flex-wrap:wrap;\n",
              "      gap: 12px;\n",
              "    }\n",
              "\n",
              "    .colab-df-convert {\n",
              "      background-color: #E8F0FE;\n",
              "      border: none;\n",
              "      border-radius: 50%;\n",
              "      cursor: pointer;\n",
              "      display: none;\n",
              "      fill: #1967D2;\n",
              "      height: 32px;\n",
              "      padding: 0 0 0 0;\n",
              "      width: 32px;\n",
              "    }\n",
              "\n",
              "    .colab-df-convert:hover {\n",
              "      background-color: #E2EBFA;\n",
              "      box-shadow: 0px 1px 2px rgba(60, 64, 67, 0.3), 0px 1px 3px 1px rgba(60, 64, 67, 0.15);\n",
              "      fill: #174EA6;\n",
              "    }\n",
              "\n",
              "    [theme=dark] .colab-df-convert {\n",
              "      background-color: #3B4455;\n",
              "      fill: #D2E3FC;\n",
              "    }\n",
              "\n",
              "    [theme=dark] .colab-df-convert:hover {\n",
              "      background-color: #434B5C;\n",
              "      box-shadow: 0px 1px 3px 1px rgba(0, 0, 0, 0.15);\n",
              "      filter: drop-shadow(0px 1px 2px rgba(0, 0, 0, 0.3));\n",
              "      fill: #FFFFFF;\n",
              "    }\n",
              "  </style>\n",
              "\n",
              "      <script>\n",
              "        const buttonEl =\n",
              "          document.querySelector('#df-c07a455d-cc06-4204-a5e3-f9b510733430 button.colab-df-convert');\n",
              "        buttonEl.style.display =\n",
              "          google.colab.kernel.accessAllowed ? 'block' : 'none';\n",
              "\n",
              "        async function convertToInteractive(key) {\n",
              "          const element = document.querySelector('#df-c07a455d-cc06-4204-a5e3-f9b510733430');\n",
              "          const dataTable =\n",
              "            await google.colab.kernel.invokeFunction('convertToInteractive',\n",
              "                                                     [key], {});\n",
              "          if (!dataTable) return;\n",
              "\n",
              "          const docLinkHtml = 'Like what you see? Visit the ' +\n",
              "            '<a target=\"_blank\" href=https://colab.research.google.com/notebooks/data_table.ipynb>data table notebook</a>'\n",
              "            + ' to learn more about interactive tables.';\n",
              "          element.innerHTML = '';\n",
              "          dataTable['output_type'] = 'display_data';\n",
              "          await google.colab.output.renderOutput(dataTable, element);\n",
              "          const docLink = document.createElement('div');\n",
              "          docLink.innerHTML = docLinkHtml;\n",
              "          element.appendChild(docLink);\n",
              "        }\n",
              "      </script>\n",
              "    </div>\n",
              "  </div>\n",
              "  "
            ],
            "text/plain": [
              "   department  region         education gender recruitment_channel  \\\n",
              "0           7       7  Master's & above      f            sourcing   \n",
              "1           4      22        Bachelor's      m               other   \n",
              "2           7      19        Bachelor's      m            sourcing   \n",
              "3           7      23        Bachelor's      m               other   \n",
              "4           8      26        Bachelor's      m               other   \n",
              "\n",
              "   no_of_trainings  age  previous_year_rating  length_of_service  \\\n",
              "0                1   35                   5.0                  8   \n",
              "1                1   30                   5.0                  4   \n",
              "2                1   34                   3.0                  7   \n",
              "3                2   39                   1.0                 10   \n",
              "4                1   45                   3.0                  2   \n",
              "\n",
              "   KPIs_met >80%  awards_won?  avg_training_score  is_promoted  \n",
              "0              1            0                  49            0  \n",
              "1              0            0                  60            0  \n",
              "2              0            0                  50            0  \n",
              "3              0            0                  50            0  \n",
              "4              0            0                  73            0  "
            ]
          },
          "metadata": {},
          "execution_count": 41
        }
      ],
      "source": [
        "# importing Label Encoder from the Sklear preprocessing library\n",
        "from sklearn.preprocessing import LabelEncoder\n",
        "le = LabelEncoder()\n",
        "\n",
        "# fitting the LabelEncoder to the unique values of the 'department' variable\n",
        "le_department = le.fit(hr['department'].unique())\n",
        "\n",
        "# getting the classes of the unique values\n",
        "department_classes = le_department.classes_\n",
        "\n",
        "# transforming the variable values\n",
        "hr['department'] = le_department.transform(hr['department'].values)\n",
        "\n",
        "# previewing our dataset to see our transformed values\n",
        "hr.head()"
      ]
    },
    {
      "cell_type": "code",
      "execution_count": 42,
      "metadata": {
        "id": "8YGxy5ZVUycz",
        "colab": {
          "base_uri": "https://localhost:8080/"
        },
        "outputId": "f3ed5a16-1d4e-40ab-9a74-11029c26a0dc"
      },
      "outputs": [
        {
          "output_type": "stream",
          "name": "stdout",
          "text": [
            "Sales & Marketing\n",
            "Operations\n"
          ]
        }
      ],
      "source": [
        "# to get the decoded values\n",
        "print(department_classes[7])\n",
        "print(department_classes[4])"
      ]
    },
    {
      "cell_type": "code",
      "execution_count": 43,
      "metadata": {
        "id": "bYD6t738Uyc3",
        "colab": {
          "base_uri": "https://localhost:8080/"
        },
        "outputId": "df6e887f-be6d-4524-b1b7-c7f78aa7f682"
      },
      "outputs": [
        {
          "output_type": "stream",
          "name": "stdout",
          "text": [
            "Master's & above\n",
            "Bachelor's\n"
          ]
        }
      ],
      "source": [
        "# doing the same thing for 'education'\n",
        "le_education = le.fit(hr['education'].unique())\n",
        "education_classes = le_education.classes_\n",
        "hr['education'] = le_education.transform(hr['education'].values)\n",
        "\n",
        "# preview the decoded values\n",
        "print(education_classes[2])\n",
        "print(education_classes[0])"
      ]
    },
    {
      "cell_type": "code",
      "execution_count": 44,
      "metadata": {
        "id": "Iy5ALbcwUyc7",
        "colab": {
          "base_uri": "https://localhost:8080/"
        },
        "outputId": "06357e05-cdb0-423d-82fe-7680e8ed3b1c"
      },
      "outputs": [
        {
          "output_type": "stream",
          "name": "stdout",
          "text": [
            "f\n",
            "m\n"
          ]
        }
      ],
      "source": [
        "# doing the same thing for 'gender'\n",
        "le_gender = le.fit(hr['gender'].unique())\n",
        "gender_classes = le_gender.classes_\n",
        "hr['gender'] = le_gender.transform(hr['gender'].values)\n",
        "\n",
        "# preview the decoded values\n",
        "print(gender_classes[0])\n",
        "print(gender_classes[1])"
      ]
    },
    {
      "cell_type": "code",
      "execution_count": 45,
      "metadata": {
        "id": "b6tnxcgqUyc_",
        "colab": {
          "base_uri": "https://localhost:8080/"
        },
        "outputId": "6c2263de-e674-475f-87b6-0c2cc640fe42"
      },
      "outputs": [
        {
          "output_type": "stream",
          "name": "stdout",
          "text": [
            "other\n",
            "sourcing\n"
          ]
        }
      ],
      "source": [
        "# doing the same thing for 'recruitment_channel'\n",
        "le_recruitment = le.fit(hr['recruitment_channel'].unique())\n",
        "recruitment_classes = le_recruitment.classes_\n",
        "hr['recruitment_channel'] = le_recruitment.transform(hr['recruitment_channel'].values)\n",
        "\n",
        "# preview the decoded values\n",
        "print(recruitment_classes[0])\n",
        "print(recruitment_classes[2])"
      ]
    },
    {
      "cell_type": "code",
      "execution_count": 46,
      "metadata": {
        "id": "NxNspCDGUydD",
        "colab": {
          "base_uri": "https://localhost:8080/",
          "height": 288
        },
        "outputId": "fea3e979-04e3-4c95-c845-2b348df483b1"
      },
      "outputs": [
        {
          "output_type": "execute_result",
          "data": {
            "text/html": [
              "\n",
              "  <div id=\"df-aa751277-4e4d-49aa-a004-566668a88fca\">\n",
              "    <div class=\"colab-df-container\">\n",
              "      <div>\n",
              "<style scoped>\n",
              "    .dataframe tbody tr th:only-of-type {\n",
              "        vertical-align: middle;\n",
              "    }\n",
              "\n",
              "    .dataframe tbody tr th {\n",
              "        vertical-align: top;\n",
              "    }\n",
              "\n",
              "    .dataframe thead th {\n",
              "        text-align: right;\n",
              "    }\n",
              "</style>\n",
              "<table border=\"1\" class=\"dataframe\">\n",
              "  <thead>\n",
              "    <tr style=\"text-align: right;\">\n",
              "      <th></th>\n",
              "      <th>department</th>\n",
              "      <th>region</th>\n",
              "      <th>education</th>\n",
              "      <th>gender</th>\n",
              "      <th>recruitment_channel</th>\n",
              "      <th>no_of_trainings</th>\n",
              "      <th>age</th>\n",
              "      <th>previous_year_rating</th>\n",
              "      <th>length_of_service</th>\n",
              "      <th>KPIs_met &gt;80%</th>\n",
              "      <th>awards_won?</th>\n",
              "      <th>avg_training_score</th>\n",
              "      <th>is_promoted</th>\n",
              "    </tr>\n",
              "  </thead>\n",
              "  <tbody>\n",
              "    <tr>\n",
              "      <th>0</th>\n",
              "      <td>7</td>\n",
              "      <td>7</td>\n",
              "      <td>2</td>\n",
              "      <td>0</td>\n",
              "      <td>2</td>\n",
              "      <td>1</td>\n",
              "      <td>35</td>\n",
              "      <td>5.0</td>\n",
              "      <td>8</td>\n",
              "      <td>1</td>\n",
              "      <td>0</td>\n",
              "      <td>49</td>\n",
              "      <td>0</td>\n",
              "    </tr>\n",
              "    <tr>\n",
              "      <th>1</th>\n",
              "      <td>4</td>\n",
              "      <td>22</td>\n",
              "      <td>0</td>\n",
              "      <td>1</td>\n",
              "      <td>0</td>\n",
              "      <td>1</td>\n",
              "      <td>30</td>\n",
              "      <td>5.0</td>\n",
              "      <td>4</td>\n",
              "      <td>0</td>\n",
              "      <td>0</td>\n",
              "      <td>60</td>\n",
              "      <td>0</td>\n",
              "    </tr>\n",
              "    <tr>\n",
              "      <th>2</th>\n",
              "      <td>7</td>\n",
              "      <td>19</td>\n",
              "      <td>0</td>\n",
              "      <td>1</td>\n",
              "      <td>2</td>\n",
              "      <td>1</td>\n",
              "      <td>34</td>\n",
              "      <td>3.0</td>\n",
              "      <td>7</td>\n",
              "      <td>0</td>\n",
              "      <td>0</td>\n",
              "      <td>50</td>\n",
              "      <td>0</td>\n",
              "    </tr>\n",
              "    <tr>\n",
              "      <th>3</th>\n",
              "      <td>7</td>\n",
              "      <td>23</td>\n",
              "      <td>0</td>\n",
              "      <td>1</td>\n",
              "      <td>0</td>\n",
              "      <td>2</td>\n",
              "      <td>39</td>\n",
              "      <td>1.0</td>\n",
              "      <td>10</td>\n",
              "      <td>0</td>\n",
              "      <td>0</td>\n",
              "      <td>50</td>\n",
              "      <td>0</td>\n",
              "    </tr>\n",
              "    <tr>\n",
              "      <th>4</th>\n",
              "      <td>8</td>\n",
              "      <td>26</td>\n",
              "      <td>0</td>\n",
              "      <td>1</td>\n",
              "      <td>0</td>\n",
              "      <td>1</td>\n",
              "      <td>45</td>\n",
              "      <td>3.0</td>\n",
              "      <td>2</td>\n",
              "      <td>0</td>\n",
              "      <td>0</td>\n",
              "      <td>73</td>\n",
              "      <td>0</td>\n",
              "    </tr>\n",
              "  </tbody>\n",
              "</table>\n",
              "</div>\n",
              "      <button class=\"colab-df-convert\" onclick=\"convertToInteractive('df-aa751277-4e4d-49aa-a004-566668a88fca')\"\n",
              "              title=\"Convert this dataframe to an interactive table.\"\n",
              "              style=\"display:none;\">\n",
              "        \n",
              "  <svg xmlns=\"http://www.w3.org/2000/svg\" height=\"24px\"viewBox=\"0 0 24 24\"\n",
              "       width=\"24px\">\n",
              "    <path d=\"M0 0h24v24H0V0z\" fill=\"none\"/>\n",
              "    <path d=\"M18.56 5.44l.94 2.06.94-2.06 2.06-.94-2.06-.94-.94-2.06-.94 2.06-2.06.94zm-11 1L8.5 8.5l.94-2.06 2.06-.94-2.06-.94L8.5 2.5l-.94 2.06-2.06.94zm10 10l.94 2.06.94-2.06 2.06-.94-2.06-.94-.94-2.06-.94 2.06-2.06.94z\"/><path d=\"M17.41 7.96l-1.37-1.37c-.4-.4-.92-.59-1.43-.59-.52 0-1.04.2-1.43.59L10.3 9.45l-7.72 7.72c-.78.78-.78 2.05 0 2.83L4 21.41c.39.39.9.59 1.41.59.51 0 1.02-.2 1.41-.59l7.78-7.78 2.81-2.81c.8-.78.8-2.07 0-2.86zM5.41 20L4 18.59l7.72-7.72 1.47 1.35L5.41 20z\"/>\n",
              "  </svg>\n",
              "      </button>\n",
              "      \n",
              "  <style>\n",
              "    .colab-df-container {\n",
              "      display:flex;\n",
              "      flex-wrap:wrap;\n",
              "      gap: 12px;\n",
              "    }\n",
              "\n",
              "    .colab-df-convert {\n",
              "      background-color: #E8F0FE;\n",
              "      border: none;\n",
              "      border-radius: 50%;\n",
              "      cursor: pointer;\n",
              "      display: none;\n",
              "      fill: #1967D2;\n",
              "      height: 32px;\n",
              "      padding: 0 0 0 0;\n",
              "      width: 32px;\n",
              "    }\n",
              "\n",
              "    .colab-df-convert:hover {\n",
              "      background-color: #E2EBFA;\n",
              "      box-shadow: 0px 1px 2px rgba(60, 64, 67, 0.3), 0px 1px 3px 1px rgba(60, 64, 67, 0.15);\n",
              "      fill: #174EA6;\n",
              "    }\n",
              "\n",
              "    [theme=dark] .colab-df-convert {\n",
              "      background-color: #3B4455;\n",
              "      fill: #D2E3FC;\n",
              "    }\n",
              "\n",
              "    [theme=dark] .colab-df-convert:hover {\n",
              "      background-color: #434B5C;\n",
              "      box-shadow: 0px 1px 3px 1px rgba(0, 0, 0, 0.15);\n",
              "      filter: drop-shadow(0px 1px 2px rgba(0, 0, 0, 0.3));\n",
              "      fill: #FFFFFF;\n",
              "    }\n",
              "  </style>\n",
              "\n",
              "      <script>\n",
              "        const buttonEl =\n",
              "          document.querySelector('#df-aa751277-4e4d-49aa-a004-566668a88fca button.colab-df-convert');\n",
              "        buttonEl.style.display =\n",
              "          google.colab.kernel.accessAllowed ? 'block' : 'none';\n",
              "\n",
              "        async function convertToInteractive(key) {\n",
              "          const element = document.querySelector('#df-aa751277-4e4d-49aa-a004-566668a88fca');\n",
              "          const dataTable =\n",
              "            await google.colab.kernel.invokeFunction('convertToInteractive',\n",
              "                                                     [key], {});\n",
              "          if (!dataTable) return;\n",
              "\n",
              "          const docLinkHtml = 'Like what you see? Visit the ' +\n",
              "            '<a target=\"_blank\" href=https://colab.research.google.com/notebooks/data_table.ipynb>data table notebook</a>'\n",
              "            + ' to learn more about interactive tables.';\n",
              "          element.innerHTML = '';\n",
              "          dataTable['output_type'] = 'display_data';\n",
              "          await google.colab.output.renderOutput(dataTable, element);\n",
              "          const docLink = document.createElement('div');\n",
              "          docLink.innerHTML = docLinkHtml;\n",
              "          element.appendChild(docLink);\n",
              "        }\n",
              "      </script>\n",
              "    </div>\n",
              "  </div>\n",
              "  "
            ],
            "text/plain": [
              "   department  region  education  gender  recruitment_channel  \\\n",
              "0           7       7          2       0                    2   \n",
              "1           4      22          0       1                    0   \n",
              "2           7      19          0       1                    2   \n",
              "3           7      23          0       1                    0   \n",
              "4           8      26          0       1                    0   \n",
              "\n",
              "   no_of_trainings  age  previous_year_rating  length_of_service  \\\n",
              "0                1   35                   5.0                  8   \n",
              "1                1   30                   5.0                  4   \n",
              "2                1   34                   3.0                  7   \n",
              "3                2   39                   1.0                 10   \n",
              "4                1   45                   3.0                  2   \n",
              "\n",
              "   KPIs_met >80%  awards_won?  avg_training_score  is_promoted  \n",
              "0              1            0                  49            0  \n",
              "1              0            0                  60            0  \n",
              "2              0            0                  50            0  \n",
              "3              0            0                  50            0  \n",
              "4              0            0                  73            0  "
            ]
          },
          "metadata": {},
          "execution_count": 46
        }
      ],
      "source": [
        "# previewing our transformed dataset\n",
        "hr.head()"
      ]
    },
    {
      "cell_type": "code",
      "execution_count": 47,
      "metadata": {
        "id": "Ur-YLdBfUydG",
        "colab": {
          "base_uri": "https://localhost:8080/"
        },
        "outputId": "c32d806d-5458-4eb3-d1ec-3bb0cd187157"
      },
      "outputs": [
        {
          "output_type": "execute_result",
          "data": {
            "text/plain": [
              "department                int64\n",
              "region                    int64\n",
              "education                 int64\n",
              "gender                    int64\n",
              "recruitment_channel       int64\n",
              "no_of_trainings           int64\n",
              "age                       int64\n",
              "previous_year_rating    float64\n",
              "length_of_service         int64\n",
              "KPIs_met >80%             int64\n",
              "awards_won?               int64\n",
              "avg_training_score        int64\n",
              "is_promoted               int64\n",
              "dtype: object"
            ]
          },
          "metadata": {},
          "execution_count": 47
        }
      ],
      "source": [
        "# confirming all our datatypes are numerical\n",
        "hr.dtypes"
      ]
    },
    {
      "cell_type": "markdown",
      "metadata": {
        "id": "1JWai_HKUydI"
      },
      "source": [
        "#### 3.2.2 Testing for Multicollinearity"
      ]
    },
    {
      "cell_type": "code",
      "execution_count": 48,
      "metadata": {
        "id": "j3C1lrPjUydJ",
        "colab": {
          "base_uri": "https://localhost:8080/",
          "height": 690
        },
        "outputId": "82937f16-f86e-4116-8cdd-d064f7a7c110"
      },
      "outputs": [
        {
          "output_type": "display_data",
          "data": {
            "image/png": "[encoded data removed]",
            "text/plain": [
              "<Figure size 720x720 with 2 Axes>"
            ]
          },
          "metadata": {
            "needs_background": "light"
          }
        }
      ],
      "source": [
        "# creating a correlation matrix to visualize correlations\n",
        "corr = hr.corr()\n",
        "\n",
        "# visualizing using a heatmap\n",
        "plt.figure(figsize = (10, 10))\n",
        "sns.heatmap(corr, annot = True, cmap = 'coolwarm')\n",
        "plt.show()"
      ]
    },
    {
      "cell_type": "markdown",
      "metadata": {
        "id": "YmjSIar_UydO"
      },
      "source": [
        "We see that age is highly correlated with length of service."
      ]
    },
    {
      "cell_type": "code",
      "execution_count": 49,
      "metadata": {
        "id": "j-7NOIx4UydO",
        "colab": {
          "base_uri": "https://localhost:8080/",
          "height": 686
        },
        "outputId": "2d9decb4-d022-48a9-a0c0-13b07dd81997"
      },
      "outputs": [
        {
          "output_type": "display_data",
          "data": {
            "image/png": "[encoded data removed]",
            "text/plain": [
              "<Figure size 720x720 with 2 Axes>"
            ]
          },
          "metadata": {
            "needs_background": "light"
          }
        }
      ],
      "source": [
        "# heatmap of VIF\n",
        "vif = pd.DataFrame(np.linalg.inv(corr.values), index = corr.index, columns = corr.columns)\n",
        "\n",
        "plt.figure(figsize = (10, 10))\n",
        "sns.heatmap(vif, annot = True)\n",
        "plt.show()"
      ]
    },
    {
      "cell_type": "markdown",
      "metadata": {
        "id": "L0tDwfFtUydS"
      },
      "source": [
        "According to our VIF heatmap, we don't have any values approaching or exceeding 5, which would be indicative of high multicollinearity."
      ]
    },
    {
      "cell_type": "markdown",
      "metadata": {
        "id": "-vvu6cRjUydT"
      },
      "source": [
        "### Data Modeling"
      ]
    },
    {
      "cell_type": "markdown",
      "metadata": {
        "id": "c6UX45MUUydU"
      },
      "source": [
        "We come to the following conclusions about our data:\n",
        "- it does not have high multicollinearity\n",
        "- it has many outliers\n",
        "- it does not have a normal/Gaussian distribution\n",
        "\n",
        "Thus, knowing this, we know that logistic regression would be a terrible algorithm for our model. We will still use it for comparison purposes."
      ]
    },
    {
      "cell_type": "code",
      "execution_count": 51,
      "metadata": {
        "id": "6J-HZyKuUydU",
        "colab": {
          "base_uri": "https://localhost:8080/"
        },
        "outputId": "b43b26e3-6294-4995-ae7d-606e6201d662"
      },
      "outputs": [
        {
          "output_type": "stream",
          "name": "stdout",
          "text": [
            "(48607, 12)\n",
            "(48607,)\n"
          ]
        }
      ],
      "source": [
        "# dividing our dataset into features (X) and target (y)\n",
        "X = np.array(hr.drop(columns = ['is_promoted']))\n",
        "y = hr['is_promoted']\n",
        "\n",
        "print(X.shape)\n",
        "print(y.shape)"
      ]
    },
    {
      "cell_type": "code",
      "execution_count": 52,
      "metadata": {
        "id": "RC9uwrs1UydY"
      },
      "outputs": [],
      "source": [
        "# splitting into 80-20 train-test sets\n",
        "\n",
        "from sklearn.model_selection import train_test_split\n",
        "\n",
        "X_train, X_test, y_train, y_test = train_test_split(X, y, test_size=.2, random_state=0)"
      ]
    },
    {
      "cell_type": "code",
      "execution_count": 53,
      "metadata": {
        "id": "-rvf1xxeUyda"
      },
      "outputs": [],
      "source": [
        "# performing feature scaling on our training data\n",
        "from sklearn.preprocessing import StandardScaler\n",
        "\n",
        "scaler = StandardScaler()\n",
        "\n",
        "# fitting and transforming X_train while transforming X_test\n",
        "X_train = scaler.fit_transform(X_train)\n",
        "X_test = scaler.transform(X_test)"
      ]
    },
    {
      "cell_type": "code",
      "execution_count": 54,
      "metadata": {
        "id": "hWQQcZAuUyde"
      },
      "outputs": [],
      "source": [
        "# loading our classification libraries\n",
        "# loading our classification libraries\n",
        "from sklearn.linear_model import LogisticRegression # Logistic Regression Classifier\n",
        "from sklearn.tree import DecisionTreeClassifier     # Decision Tree Classifier\n",
        "from sklearn.svm import SVC                         # SVM Classifier\n",
        "from sklearn.naive_bayes import GaussianNB          # Naive Bayes Classifier\n",
        "from sklearn.neighbors import KNeighborsClassifier  # KNN Classifier\n",
        "\n",
        "# instantiating our classifiers\n",
        "logistic_classifier = LogisticRegression()\n",
        "decision_classifier = DecisionTreeClassifier()\n",
        "svm_classifier = SVC()\n",
        "knn_classifier = KNeighborsClassifier()\n",
        "naive_classifier = GaussianNB()\n",
        "\n",
        "# fitting our classifiers to the training data\n",
        "logistic_classifier.fit(X_train, y_train)\n",
        "decision_classifier.fit(X_train, y_train)\n",
        "svm_classifier.fit(X_train, y_train)\n",
        "knn_classifier.fit(X_train, y_train)\n",
        "naive_classifier.fit(X_train, y_train)\n",
        "\n",
        "# making predictions\n",
        "logistic_y_prediction = logistic_classifier.predict(X_test) \n",
        "decision_y_prediction = decision_classifier.predict(X_test) \n",
        "svm_y_prediction = svm_classifier.predict(X_test) \n",
        "knn_y_prediction = knn_classifier.predict(X_test) \n",
        "naive_y_prediction = naive_classifier.predict(X_test) \n"
      ]
    },
    {
      "cell_type": "code",
      "execution_count": 55,
      "metadata": {
        "id": "znmyDgJtUydg",
        "colab": {
          "base_uri": "https://localhost:8080/"
        },
        "outputId": "049e10b2-1c2e-42ce-9a9e-2eaa69fa00fb"
      },
      "outputs": [
        {
          "output_type": "stream",
          "name": "stdout",
          "text": [
            "Logistic Regression classification report:\n",
            "              precision    recall  f1-score   support\n",
            "\n",
            "           0       0.92      1.00      0.96      8865\n",
            "           1       0.64      0.07      0.12       857\n",
            "\n",
            "    accuracy                           0.91      9722\n",
            "   macro avg       0.78      0.53      0.54      9722\n",
            "weighted avg       0.89      0.91      0.88      9722\n",
            "\n",
            "Gaussian Naive Bayes classification report:\n",
            "              precision    recall  f1-score   support\n",
            "\n",
            "           0       0.92      0.99      0.95      8865\n",
            "           1       0.51      0.14      0.22       857\n",
            "\n",
            "    accuracy                           0.91      9722\n",
            "   macro avg       0.71      0.56      0.58      9722\n",
            "weighted avg       0.89      0.91      0.89      9722\n",
            "\n",
            "Decision Tree classification report:\n",
            "              precision    recall  f1-score   support\n",
            "\n",
            "           0       0.95      0.94      0.94      8865\n",
            "           1       0.41      0.45      0.43       857\n",
            "\n",
            "    accuracy                           0.90      9722\n",
            "   macro avg       0.68      0.69      0.69      9722\n",
            "weighted avg       0.90      0.90      0.90      9722\n",
            "\n",
            "K-Nearest Neighbors classification report:\n",
            "              precision    recall  f1-score   support\n",
            "\n",
            "           0       0.92      0.99      0.95      8865\n",
            "           1       0.48      0.13      0.21       857\n",
            "\n",
            "    accuracy                           0.91      9722\n",
            "   macro avg       0.70      0.56      0.58      9722\n",
            "weighted avg       0.88      0.91      0.89      9722\n",
            "\n",
            "Support Vector Machine classification report:\n",
            "              precision    recall  f1-score   support\n",
            "\n",
            "           0       0.92      1.00      0.96      8865\n",
            "           1       0.89      0.09      0.16       857\n",
            "\n",
            "    accuracy                           0.92      9722\n",
            "   macro avg       0.90      0.54      0.56      9722\n",
            "weighted avg       0.92      0.92      0.89      9722\n",
            "\n"
          ]
        }
      ],
      "source": [
        "# printing the classification report for each classifier to assess performance\n",
        "from sklearn.metrics import classification_report\n",
        "\n",
        "# classification report for Logistic Regression\n",
        "print(\"Logistic Regression classification report:\")\n",
        "print(classification_report(y_test, logistic_y_prediction))\n",
        "\n",
        "# classification report for Gaussian Naive Bayes Classifier\n",
        "print(\"Gaussian Naive Bayes classification report:\")\n",
        "print(classification_report(y_test, naive_y_prediction)) \n",
        "\n",
        "# classification report for Decision Tree Classifier\n",
        "print(\"Decision Tree classification report:\")\n",
        "print(classification_report(y_test, decision_y_prediction))\n",
        "\n",
        "# classification report for K-Nearest Neighbors Classifier\n",
        "print(\"K-Nearest Neighbors classification report:\")\n",
        "print(classification_report(y_test, knn_y_prediction))\n",
        "\n",
        "# classification report for Support Vector Machine Classifier\n",
        "print(\"Support Vector Machine classification report:\")\n",
        "print(classification_report(y_test, svm_y_prediction))"
      ]
    },
    {
      "cell_type": "code",
      "execution_count": 71,
      "metadata": {
        "id": "Snd3Z2Gtg6QR",
        "colab": {
          "base_uri": "https://localhost:8080/",
          "height": 1000
        },
        "outputId": "4ad31a0c-7b7c-4edb-c34c-410b4c07c6f6"
      },
      "outputs": [
        {
          "output_type": "stream",
          "name": "stdout",
          "text": [
            "Model: \"sequential_4\"\n",
            "_________________________________________________________________\n",
            " Layer (type)                Output Shape              Param #   \n",
            "=================================================================\n",
            " dense_7 (Dense)             (None, 16)                208       \n",
            "                                                                 \n",
            " dense_8 (Dense)             (None, 16)                272       \n",
            "                                                                 \n",
            " dense_9 (Dense)             (None, 1)                 17        \n",
            "                                                                 \n",
            "=================================================================\n",
            "Total params: 497\n",
            "Trainable params: 497\n",
            "Non-trainable params: 0\n",
            "_________________________________________________________________\n",
            "Epoch 1/80\n",
            "3111/3111 [==============================] - 19s 6ms/step - loss: 0.2568 - accuracy: 0.9098 - val_loss: 0.2409 - val_accuracy: 0.9135\n",
            "Epoch 2/80\n",
            "3111/3111 [==============================] - 15s 5ms/step - loss: 0.2274 - accuracy: 0.9209 - val_loss: 0.2393 - val_accuracy: 0.9147\n",
            "Epoch 3/80\n",
            "3111/3111 [==============================] - 10s 3ms/step - loss: 0.2232 - accuracy: 0.9233 - val_loss: 0.2340 - val_accuracy: 0.9165\n",
            "Epoch 4/80\n",
            "3111/3111 [==============================] - 7s 2ms/step - loss: 0.2194 - accuracy: 0.9246 - val_loss: 0.2346 - val_accuracy: 0.9159\n",
            "Epoch 5/80\n",
            "3111/3111 [==============================] - 7s 2ms/step - loss: 0.2153 - accuracy: 0.9251 - val_loss: 0.2276 - val_accuracy: 0.9189\n",
            "Epoch 6/80\n",
            "3111/3111 [==============================] - 6s 2ms/step - loss: 0.2096 - accuracy: 0.9268 - val_loss: 0.2231 - val_accuracy: 0.9181\n",
            "Epoch 7/80\n",
            "3111/3111 [==============================] - 7s 2ms/step - loss: 0.2040 - accuracy: 0.9279 - val_loss: 0.2183 - val_accuracy: 0.9208\n",
            "Epoch 8/80\n",
            "3111/3111 [==============================] - 6s 2ms/step - loss: 0.1994 - accuracy: 0.9292 - val_loss: 0.2145 - val_accuracy: 0.9225\n",
            "Epoch 9/80\n",
            "3111/3111 [==============================] - 6s 2ms/step - loss: 0.1962 - accuracy: 0.9309 - val_loss: 0.2143 - val_accuracy: 0.9217\n",
            "Epoch 10/80\n",
            "3111/3111 [==============================] - 6s 2ms/step - loss: 0.1939 - accuracy: 0.9314 - val_loss: 0.2100 - val_accuracy: 0.9240\n",
            "Epoch 11/80\n",
            "3111/3111 [==============================] - 6s 2ms/step - loss: 0.1910 - accuracy: 0.9325 - val_loss: 0.2052 - val_accuracy: 0.9264\n",
            "Epoch 12/80\n",
            "3111/3111 [==============================] - 6s 2ms/step - loss: 0.1880 - accuracy: 0.9332 - val_loss: 0.2040 - val_accuracy: 0.9266\n",
            "Epoch 13/80\n",
            "3111/3111 [==============================] - 6s 2ms/step - loss: 0.1854 - accuracy: 0.9344 - val_loss: 0.2030 - val_accuracy: 0.9258\n",
            "Epoch 14/80\n",
            "3111/3111 [==============================] - 7s 2ms/step - loss: 0.1826 - accuracy: 0.9352 - val_loss: 0.2035 - val_accuracy: 0.9266\n",
            "Epoch 15/80\n",
            "3111/3111 [==============================] - 6s 2ms/step - loss: 0.1798 - accuracy: 0.9364 - val_loss: 0.2003 - val_accuracy: 0.9281\n",
            "Epoch 16/80\n",
            "3111/3111 [==============================] - 6s 2ms/step - loss: 0.1782 - accuracy: 0.9367 - val_loss: 0.1967 - val_accuracy: 0.9290\n",
            "Epoch 17/80\n",
            "3111/3111 [==============================] - 8s 2ms/step - loss: 0.1766 - accuracy: 0.9380 - val_loss: 0.1950 - val_accuracy: 0.9292\n",
            "Epoch 18/80\n",
            "3111/3111 [==============================] - 6s 2ms/step - loss: 0.1747 - accuracy: 0.9384 - val_loss: 0.1927 - val_accuracy: 0.9299\n",
            "Epoch 19/80\n",
            "3111/3111 [==============================] - 7s 2ms/step - loss: 0.1739 - accuracy: 0.9390 - val_loss: 0.1978 - val_accuracy: 0.9276\n",
            "Epoch 20/80\n",
            "3111/3111 [==============================] - 6s 2ms/step - loss: 0.1730 - accuracy: 0.9385 - val_loss: 0.1959 - val_accuracy: 0.9263\n",
            "Epoch 21/80\n",
            "3111/3111 [==============================] - 6s 2ms/step - loss: 0.1724 - accuracy: 0.9395 - val_loss: 0.1914 - val_accuracy: 0.9293\n",
            "Epoch 22/80\n",
            "3111/3111 [==============================] - 7s 2ms/step - loss: 0.1717 - accuracy: 0.9392 - val_loss: 0.1964 - val_accuracy: 0.9297\n",
            "Epoch 23/80\n",
            "3111/3111 [==============================] - 6s 2ms/step - loss: 0.1710 - accuracy: 0.9397 - val_loss: 0.1999 - val_accuracy: 0.9289\n",
            "Epoch 24/80\n",
            "3111/3111 [==============================] - 6s 2ms/step - loss: 0.1707 - accuracy: 0.9400 - val_loss: 0.1954 - val_accuracy: 0.9279\n",
            "Epoch 25/80\n",
            "3111/3111 [==============================] - 6s 2ms/step - loss: 0.1700 - accuracy: 0.9407 - val_loss: 0.1920 - val_accuracy: 0.9298\n",
            "Epoch 26/80\n",
            "3111/3111 [==============================] - 6s 2ms/step - loss: 0.1699 - accuracy: 0.9397 - val_loss: 0.1917 - val_accuracy: 0.9303\n",
            "Epoch 27/80\n",
            "3111/3111 [==============================] - 6s 2ms/step - loss: 0.1701 - accuracy: 0.9399 - val_loss: 0.1938 - val_accuracy: 0.9306\n",
            "Epoch 28/80\n",
            "3111/3111 [==============================] - 6s 2ms/step - loss: 0.1697 - accuracy: 0.9405 - val_loss: 0.1919 - val_accuracy: 0.9304\n",
            "Epoch 29/80\n",
            "3111/3111 [==============================] - 6s 2ms/step - loss: 0.1695 - accuracy: 0.9401 - val_loss: 0.1942 - val_accuracy: 0.9304\n",
            "Epoch 30/80\n",
            "3111/3111 [==============================] - 6s 2ms/step - loss: 0.1695 - accuracy: 0.9407 - val_loss: 0.1910 - val_accuracy: 0.9304\n",
            "Epoch 31/80\n",
            "3111/3111 [==============================] - 6s 2ms/step - loss: 0.1693 - accuracy: 0.9401 - val_loss: 0.1969 - val_accuracy: 0.9298\n",
            "Epoch 32/80\n",
            "3111/3111 [==============================] - 6s 2ms/step - loss: 0.1687 - accuracy: 0.9402 - val_loss: 0.1931 - val_accuracy: 0.9297\n",
            "Epoch 33/80\n",
            "3111/3111 [==============================] - 7s 2ms/step - loss: 0.1689 - accuracy: 0.9405 - val_loss: 0.1927 - val_accuracy: 0.9301\n",
            "Epoch 34/80\n",
            "3111/3111 [==============================] - 7s 2ms/step - loss: 0.1681 - accuracy: 0.9406 - val_loss: 0.1935 - val_accuracy: 0.9295\n",
            "Epoch 35/80\n",
            "3111/3111 [==============================] - 7s 2ms/step - loss: 0.1683 - accuracy: 0.9402 - val_loss: 0.1940 - val_accuracy: 0.9308\n",
            "Epoch 36/80\n",
            "3111/3111 [==============================] - 6s 2ms/step - loss: 0.1681 - accuracy: 0.9410 - val_loss: 0.1901 - val_accuracy: 0.9299\n",
            "Epoch 37/80\n",
            "3111/3111 [==============================] - 7s 2ms/step - loss: 0.1680 - accuracy: 0.9409 - val_loss: 0.1922 - val_accuracy: 0.9299\n",
            "Epoch 38/80\n",
            "3111/3111 [==============================] - 7s 2ms/step - loss: 0.1672 - accuracy: 0.9409 - val_loss: 0.1927 - val_accuracy: 0.9301\n",
            "Epoch 39/80\n",
            "3111/3111 [==============================] - 7s 2ms/step - loss: 0.1681 - accuracy: 0.9407 - val_loss: 0.1912 - val_accuracy: 0.9311\n",
            "Epoch 40/80\n",
            "3111/3111 [==============================] - 7s 2ms/step - loss: 0.1675 - accuracy: 0.9410 - val_loss: 0.1934 - val_accuracy: 0.9298\n",
            "Epoch 41/80\n",
            "3111/3111 [==============================] - 6s 2ms/step - loss: 0.1672 - accuracy: 0.9407 - val_loss: 0.1924 - val_accuracy: 0.9316\n",
            "Epoch 42/80\n",
            "3111/3111 [==============================] - 6s 2ms/step - loss: 0.1676 - accuracy: 0.9405 - val_loss: 0.1933 - val_accuracy: 0.9293\n",
            "Epoch 43/80\n",
            "3111/3111 [==============================] - 6s 2ms/step - loss: 0.1674 - accuracy: 0.9408 - val_loss: 0.1968 - val_accuracy: 0.9303\n",
            "Epoch 44/80\n",
            "3111/3111 [==============================] - 6s 2ms/step - loss: 0.1670 - accuracy: 0.9408 - val_loss: 0.1918 - val_accuracy: 0.9299\n",
            "Epoch 45/80\n",
            "3111/3111 [==============================] - 7s 2ms/step - loss: 0.1671 - accuracy: 0.9411 - val_loss: 0.1913 - val_accuracy: 0.9307\n",
            "Epoch 46/80\n",
            "3111/3111 [==============================] - 6s 2ms/step - loss: 0.1668 - accuracy: 0.9409 - val_loss: 0.1927 - val_accuracy: 0.9313\n",
            "Epoch 47/80\n",
            "3111/3111 [==============================] - 6s 2ms/step - loss: 0.1670 - accuracy: 0.9405 - val_loss: 0.1922 - val_accuracy: 0.9276\n",
            "Epoch 48/80\n",
            "3111/3111 [==============================] - 6s 2ms/step - loss: 0.1667 - accuracy: 0.9410 - val_loss: 0.1934 - val_accuracy: 0.9308\n",
            "Epoch 49/80\n",
            "3111/3111 [==============================] - 6s 2ms/step - loss: 0.1667 - accuracy: 0.9410 - val_loss: 0.1893 - val_accuracy: 0.9302\n",
            "Epoch 50/80\n",
            "3111/3111 [==============================] - 8s 2ms/step - loss: 0.1663 - accuracy: 0.9409 - val_loss: 0.1925 - val_accuracy: 0.9294\n",
            "Epoch 51/80\n",
            "3111/3111 [==============================] - 6s 2ms/step - loss: 0.1661 - accuracy: 0.9417 - val_loss: 0.1932 - val_accuracy: 0.9306\n"
          ]
        },
        {
          "output_type": "display_data",
          "data": {
            "image/png": "[encoded data removed]",
            "text/plain": [
              "<Figure size 432x288 with 1 Axes>"
            ]
          },
          "metadata": {
            "needs_background": "light"
          }
        }
      ],
      "source": [
        "# We import Artificial Neural Network libraries\n",
        "# ---\n",
        "#\n",
        "from keras.models import Sequential\n",
        "from keras.layers import Dense\n",
        "from keras.layers import LSTM\n",
        "from keras.layers import Dropout\n",
        "from keras.callbacks import ModelCheckpoint, EarlyStopping\n",
        "\n",
        "\n",
        "# Defining our ANN\n",
        "model = Sequential()\n",
        "model.add(Dense(16, input_shape=(X_train.shape[1],), activation='relu')) \n",
        "model.add(Dense(16, activation='relu'))\n",
        "model.add(Dense(1, activation='sigmoid'))\n",
        "model.summary()\n",
        "\n",
        "\n",
        "# Compiling the model\n",
        "model.compile(optimizer='Adam', \n",
        "              loss='binary_crossentropy',\n",
        "              metrics=['accuracy'])\n",
        "\n",
        "# early stopping callback\n",
        "# This callback will stop the training when there is no improvement in  \n",
        "# the validation loss for 10 consecutive epochs.  \n",
        "es = EarlyStopping(monitor='val_accuracy', \n",
        "                                   mode='max',\n",
        "                                   patience=10,\n",
        "                                   restore_best_weights=True)\n",
        "\n",
        "history = model.fit(X_train,\n",
        "                    y_train,\n",
        "                    callbacks=[es],\n",
        "                    epochs=80, \n",
        "                    batch_size=10,\n",
        "                    validation_split=0.2,\n",
        "                    shuffle=True,\n",
        "                    verbose=1)\n",
        "\n",
        "# Evaluating our model\n",
        "history_dict = history.history\n",
        "\n",
        "# Learning curve(Loss)\n",
        "# loss\n",
        "loss_values = history_dict['loss'] \n",
        "val_loss_values = history_dict['val_loss'] \n",
        "\n",
        "# range of X (no. of epochs)\n",
        "epochs = range(1, len(loss_values) + 1) \n",
        "\n",
        "# plot\n",
        "plt.plot(epochs, loss_values, 'bo', label='Training loss')\n",
        "plt.plot(epochs, val_loss_values, 'orange', label='Validation loss')\n",
        "plt.title('Training and validation loss')\n",
        "plt.xlabel('Epochs')\n",
        "plt.ylabel('Loss')\n",
        "plt.legend()\n",
        "plt.show()"
      ]
    },
    {
      "cell_type": "code",
      "source": [
        "# Evaluating our model\n",
        "\n",
        "# checking training and validation accuracy by epoch\n",
        "\n",
        "# accuracy\n",
        "acc = history.history['accuracy']\n",
        "val_acc = history.history['val_accuracy']\n",
        "\n",
        "# range of X (no. of epochs)\n",
        "epochs = range(1, len(acc) + 1)\n",
        "\n",
        "# plot\n",
        "\n",
        "plt.plot(epochs, acc, 'bo', label='Training accuracy')\n",
        "\n",
        "plt.plot(epochs, val_acc, 'orange', label='Validation accuracy')\n",
        "plt.title('Training and validation accuracy')\n",
        "plt.xlabel('Epochs')\n",
        "plt.ylabel('Accuracy')\n",
        "plt.legend()\n",
        "plt.show()\n",
        "\n",
        "# this is the maximum value - should correspond to\n",
        "# the highest train accuracy\n",
        "np.max(val_acc)"
      ],
      "metadata": {
        "colab": {
          "base_uri": "https://localhost:8080/",
          "height": 313
        },
        "id": "m0cbeG_SJ3jT",
        "outputId": "38e271f1-0f32-45a2-d5e4-8b9cdf875b39"
      },
      "execution_count": 72,
      "outputs": [
        {
          "output_type": "display_data",
          "data": {
            "image/png": "[encoded data removed]",
            "text/plain": [
              "<Figure size 432x288 with 1 Axes>"
            ]
          },
          "metadata": {
            "needs_background": "light"
          }
        },
        {
          "output_type": "execute_result",
          "data": {
            "text/plain": [
              "0.9315931797027588"
            ]
          },
          "metadata": {},
          "execution_count": 72
        }
      ]
    },
    {
      "cell_type": "code",
      "source": [
        "from sklearn.metrics import confusion_matrix\n",
        "from sklearn.metrics import classification_report\n",
        "\n",
        "np.round(model.predict(X_test),0) # 1 and 0 (promoted or not)\n",
        "\n",
        "#round to a whole number (0 or 1),\n",
        "preds = np.round(model.predict(X_test),0)\n",
        "\n",
        "# confusion matrix\n",
        "print(\"ANN Confusion Matrix:\")\n",
        "print(confusion_matrix(y_test, preds))\n",
        "\n",
        "print(\"ANN classification report:\")\n",
        "print(classification_report(y_test, preds))"
      ],
      "metadata": {
        "colab": {
          "base_uri": "https://localhost:8080/"
        },
        "id": "Dkf5UrpLKMWv",
        "outputId": "62471aef-e875-4b73-b664-d11287f75200"
      },
      "execution_count": 73,
      "outputs": [
        {
          "output_type": "stream",
          "name": "stdout",
          "text": [
            "ANN Confusion Matrix:\n",
            "[[8829   36]\n",
            " [ 599  258]]\n",
            "ANN classification report:\n",
            "              precision    recall  f1-score   support\n",
            "\n",
            "           0       0.94      1.00      0.97      8865\n",
            "           1       0.88      0.30      0.45       857\n",
            "\n",
            "    accuracy                           0.93      9722\n",
            "   macro avg       0.91      0.65      0.71      9722\n",
            "weighted avg       0.93      0.93      0.92      9722\n",
            "\n"
          ]
        }
      ]
    },
    {
      "cell_type": "markdown",
      "metadata": {
        "id": "uj4m4LoQUydk"
      },
      "source": [
        "## <font color='#2F4F4F'>5. Summary of Findings</font>"
      ]
    },
    {
      "cell_type": "markdown",
      "metadata": {
        "id": "3BLXmRRoUydk"
      },
      "source": [
        "\n",
        "a. Dataset does not have high levels of multicollinearity\n",
        "\n",
        "b. Dataset does not have normal distribution\n",
        "\n",
        "c. ANN model performed best compared to other models as per the classification report\n",
        "\n",
        "d. For ANN model, the callback  stopped the training at 51 epochs as there was no improvement in the validation loss for 10 consecutive epochs\n",
        "\n"
      ]
    },
    {
      "cell_type": "markdown",
      "metadata": {
        "id": "AbweHCn9Uydl"
      },
      "source": [
        "## <font color='#2F4F4F'>6. Recommendations</font>\n"
      ]
    },
    {
      "cell_type": "markdown",
      "metadata": {
        "id": "HvUuReIyM-jK"
      },
      "source": [
        "ANN performed better than other models and would be the recommended model for this project."
      ]
    },
    {
      "cell_type": "markdown",
      "metadata": {
        "id": "bNXekFrvUydl"
      },
      "source": [
        "## <font color='#2F4F4F'>7. Challenging your Solution</font>\n"
      ]
    },
    {
      "cell_type": "markdown",
      "metadata": {
        "id": "udmliAiqNBVB"
      },
      "source": [
        "#### a) Did we have the right question?\n",
        "Yes, we had the right question\n",
        "\n",
        "#### b) Did we have the right data?\n",
        "Yes, the data we had was relevant and sufficient in answering the research question\n",
        "\n",
        "#### c) What can be done to improve the solution?\n",
        "\n",
        "-Searching for the best hyper-parameters- hyper parameter tuning will help find best hyper parameters to help improve  the different models performance\n",
        "\n",
        "-Apply feature engineering and selection- use domain knowledge to select best features. This is because the better the features one prepares and choose, the better the results.\n",
        "\n",
        "-Looking for more data- which could translate into new cases or new features"
      ]
    }
  ],
  "metadata": {
    "colab": {
      "collapsed_sections": [
        "O5GrwdSxUyZf",
        "5YbJBdTGUyZg",
        "UQyhSx4EUyZh",
        "VG9zJNdjUyZh",
        "Yt8IcGWaUyZi",
        "udmliAiqNBVB"
      ],
      "name": "Deep Learning and Neural Networks -Violet",
      "provenance": []
    },
    "kernelspec": {
      "display_name": "Python 3",
      "name": "python3"
    }
  },
  "nbformat": 4,
  "nbformat_minor": 0
}